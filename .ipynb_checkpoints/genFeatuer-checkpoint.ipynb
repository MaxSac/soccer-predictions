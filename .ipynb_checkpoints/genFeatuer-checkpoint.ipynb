{
 "cells": [
  {
   "cell_type": "code",
   "execution_count": 12,
   "metadata": {
    "collapsed": true
   },
   "outputs": [],
   "source": [
    "import pandas as pd"
   ]
  },
  {
   "cell_type": "code",
   "execution_count": 30,
   "metadata": {
    "collapsed": true
   },
   "outputs": [],
   "source": [
    "class designFeature():\n",
    "    def changePosition(self, data, key1, key2):\n",
    "        storage = pd.DataFrame(data[key1])\n",
    "        data[key1] = data[key2].values\n",
    "        data[key2] = storage\n",
    "        return data\n",
    "    \n",
    "    def changeEntrys(self, data):\n",
    "        return data.squeeze()[::-1]\n",
    "    \n",
    "    def swapInfo(self, data):\n",
    "        data.FinalResult = self.changeEntry(data.FinalResult)\n",
    "        data.HalftimeResult = self.changeEntry(data.HalftimeResult)\n",
    "        data = self.changePosition(data, 'GoalTimeTeam1', 'GoalTimeTeam2')\n",
    "        return data"
   ]
  },
  {
   "cell_type": "code",
   "execution_count": 31,
   "metadata": {
    "collapsed": false,
    "scrolled": true
   },
   "outputs": [],
   "source": [
    "class genFeature(designFeature):\n",
    "    def __init__(self, year, day):\n",
    "        self.genMatchday = [year, day]\n",
    "        self.dataActuellMatchday = self.loadMatchday(*self.genMatchday)\n",
    "        \n",
    "    def loadMatchday(Matchday, year, day):\n",
    "        '''Load Matchday with all paarings'''\n",
    "        return pd.read_pickle('./data/'+str(year)).query('Matchday=='+str(day))\n",
    "    \n",
    "    def dataOfATeam(self, data, team):\n",
    "        ''' Search Match of special team and return data and look if home team \n",
    "        Parameters:\n",
    "            data: dict\n",
    "                Matchday data with converted data\n",
    "            team: string \n",
    "                Teamname of the Team\n",
    "        Returns:\n",
    "            list: [isHomeTeam, dataTeam]\n",
    "                isHomeTeam: boolean if the searched team plays home\n",
    "                dataTeam: reduced data to only the match the team played\n",
    "        '''\n",
    "        mask = np.array([])\n",
    "        for x in ['Team1','Team2']:\n",
    "            mask = np.append(mask, data[x].str.contains(team)) # boolean of wher is searched team\n",
    "        mask = mask.reshape(2, int(len(mask)/2)) # reduce into two dim. [home, away]\n",
    "        boolHome = np.sum(mask, axis=1)[0].astype(bool) # return true if searched team is home Team\n",
    "        return [boolHome, data[np.sum(mask, axis=0).astype(bool)]]\n",
    "    \n",
    "    def calcMatchFeature(self, home, data):\n",
    "        print(data)\n",
    "        #if(home!=True):\n",
    "        if(home==True):\n",
    "            data = designFeature().swapInfo(data)\n",
    "        dataMatchday = pd.DataFrame({\n",
    "                'Hour': data.Hour,\n",
    "                'Matchday': data.Matchday,\n",
    "                'Weekday': data.Weekday,\n",
    "                'FinalResult': data.FinalResult\n",
    "            })\n",
    "        return dataMatchday\n",
    "        \n",
    "    def appendInfo(self, team, info, iteration):\n",
    "        return self.dataActuellMatchday#['Team1' == team]"
   ]
  },
  {
   "cell_type": "code",
   "execution_count": 32,
   "metadata": {
    "collapsed": false
   },
   "outputs": [],
   "source": [
    "testMatchday = genFeature(2013,1).appendInfo('Hertha BSC',1,1)"
   ]
  },
  {
   "cell_type": "code",
   "execution_count": 33,
   "metadata": {
    "collapsed": false
   },
   "outputs": [],
   "source": [
    "testTeam = genFeature(2013,1).dataOfATeam(testMatchday, 'Hertha BSC')"
   ]
  },
  {
   "cell_type": "code",
   "execution_count": 34,
   "metadata": {
    "collapsed": false
   },
   "outputs": [
    {
     "name": "stdout",
     "output_type": "stream",
     "text": [
      "             DateTime FinalResult             GoalTimeTeam1 GoalTimeTeam2  \\\n",
      "0 2013-08-10 15:30:00      (6, 1)  [18, 32, 58, 60, 71, 89]          [37]   \n",
      "\n",
      "  HalftimeResult  Hour  Matchday                           OvertimeGoalTeam1  \\\n",
      "0         (2, 1)    15         1  [False, False, False, False, False, False]   \n",
      "\n",
      "  OvertimeGoalTeam2                                OwnGoalTeam1 OwnGoalTeam2  \\\n",
      "0           [False]  [False, False, False, False, False, False]      [False]   \n",
      "\n",
      "                                 PeanltyTeam1 PenaltyTeam2  \\\n",
      "0  [False, False, False, False, False, False]       [True]   \n",
      "\n",
      "                                       ScorerTeam1 ScorerTeam2 Spectators  \\\n",
      "0  [Ramos, Brooks, Allagui, Allagui, Ramos, Ronny]     [Meier]      54376   \n",
      "\n",
      "        Team1                Team2  Weekday  \n",
      "0  Hertha BSC  Eintracht Frankfurt        5  \n"
     ]
    },
    {
     "name": "stderr",
     "output_type": "stream",
     "text": [
      "/home/maximilian/.local/anaconda3/lib/python3.5/site-packages/pandas/core/generic.py:2773: SettingWithCopyWarning: \n",
      "A value is trying to be set on a copy of a slice from a DataFrame.\n",
      "Try using .loc[row_indexer,col_indexer] = value instead\n",
      "\n",
      "See the caveats in the documentation: http://pandas.pydata.org/pandas-docs/stable/indexing.html#indexing-view-versus-copy\n",
      "  self[name] = value\n",
      "/home/maximilian/.local/anaconda3/lib/python3.5/site-packages/ipykernel/__main__.py:4: SettingWithCopyWarning: \n",
      "A value is trying to be set on a copy of a slice from a DataFrame.\n",
      "Try using .loc[row_indexer,col_indexer] = value instead\n",
      "\n",
      "See the caveats in the documentation: http://pandas.pydata.org/pandas-docs/stable/indexing.html#indexing-view-versus-copy\n",
      "/home/maximilian/.local/anaconda3/lib/python3.5/site-packages/ipykernel/__main__.py:5: SettingWithCopyWarning: \n",
      "A value is trying to be set on a copy of a slice from a DataFrame.\n",
      "Try using .loc[row_indexer,col_indexer] = value instead\n",
      "\n",
      "See the caveats in the documentation: http://pandas.pydata.org/pandas-docs/stable/indexing.html#indexing-view-versus-copy\n"
     ]
    }
   ],
   "source": [
    "data = genFeature(2013,1).calcMatchFeature(*testTeam)"
   ]
  },
  {
   "cell_type": "code",
   "execution_count": 35,
   "metadata": {
    "collapsed": false
   },
   "outputs": [
    {
     "data": {
      "text/plain": [
       "0    (6, 1)\n",
       "Name: FinalResult, dtype: object"
      ]
     },
     "execution_count": 35,
     "metadata": {},
     "output_type": "execute_result"
    }
   ],
   "source": [
    "data.FinalResult"
   ]
  },
  {
   "cell_type": "code",
   "execution_count": 100,
   "metadata": {
    "collapsed": false
   },
   "outputs": [
    {
     "ename": "TypeError",
     "evalue": "data type not understood",
     "output_type": "error",
     "traceback": [
      "\u001b[0;31m---------------------------------------------------------------------------\u001b[0m",
      "\u001b[0;31mTypeError\u001b[0m                                 Traceback (most recent call last)",
      "\u001b[0;32m<ipython-input-100-5ebf1681980c>\u001b[0m in \u001b[0;36m<module>\u001b[0;34m()\u001b[0m\n\u001b[1;32m      1\u001b[0m \u001b[0;31m#pd.DataFrame(data={'integer':1, 'array':np.array([1,2]), 'string':'test'}, dtype=[int, list, str])\u001b[0m\u001b[0;34m\u001b[0m\u001b[0;34m\u001b[0m\u001b[0m\n\u001b[0;32m----> 2\u001b[0;31m \u001b[0mpd\u001b[0m\u001b[0;34m.\u001b[0m\u001b[0mDataFrame\u001b[0m\u001b[0;34m(\u001b[0m\u001b[0mdata\u001b[0m\u001b[0;34m=\u001b[0m\u001b[0;34m{\u001b[0m\u001b[0;34m'integer'\u001b[0m\u001b[0;34m:\u001b[0m\u001b[0;36m1\u001b[0m\u001b[0;34m}\u001b[0m\u001b[0;34m,\u001b[0m \u001b[0mdtype\u001b[0m\u001b[0;34m=\u001b[0m\u001b[0;34m[\u001b[0m\u001b[0mint\u001b[0m\u001b[0;34m]\u001b[0m\u001b[0;34m)\u001b[0m\u001b[0;34m\u001b[0m\u001b[0m\n\u001b[0m",
      "\u001b[0;32m/home/maximilian/.local/anaconda3/lib/python3.5/site-packages/pandas/core/frame.py\u001b[0m in \u001b[0;36m__init__\u001b[0;34m(self, data, index, columns, dtype, copy)\u001b[0m\n\u001b[1;32m    255\u001b[0m             \u001b[0mdata\u001b[0m \u001b[0;34m=\u001b[0m \u001b[0;34m{\u001b[0m\u001b[0;34m}\u001b[0m\u001b[0;34m\u001b[0m\u001b[0m\n\u001b[1;32m    256\u001b[0m         \u001b[0;32mif\u001b[0m \u001b[0mdtype\u001b[0m \u001b[0;32mis\u001b[0m \u001b[0;32mnot\u001b[0m \u001b[0;32mNone\u001b[0m\u001b[0;34m:\u001b[0m\u001b[0;34m\u001b[0m\u001b[0m\n\u001b[0;32m--> 257\u001b[0;31m             \u001b[0mdtype\u001b[0m \u001b[0;34m=\u001b[0m \u001b[0mself\u001b[0m\u001b[0;34m.\u001b[0m\u001b[0m_validate_dtype\u001b[0m\u001b[0;34m(\u001b[0m\u001b[0mdtype\u001b[0m\u001b[0;34m)\u001b[0m\u001b[0;34m\u001b[0m\u001b[0m\n\u001b[0m\u001b[1;32m    258\u001b[0m \u001b[0;34m\u001b[0m\u001b[0m\n\u001b[1;32m    259\u001b[0m         \u001b[0;32mif\u001b[0m \u001b[0misinstance\u001b[0m\u001b[0;34m(\u001b[0m\u001b[0mdata\u001b[0m\u001b[0;34m,\u001b[0m \u001b[0mDataFrame\u001b[0m\u001b[0;34m)\u001b[0m\u001b[0;34m:\u001b[0m\u001b[0;34m\u001b[0m\u001b[0m\n",
      "\u001b[0;32m/home/maximilian/.local/anaconda3/lib/python3.5/site-packages/pandas/core/generic.py\u001b[0m in \u001b[0;36m_validate_dtype\u001b[0;34m(self, dtype)\u001b[0m\n\u001b[1;32m    133\u001b[0m \u001b[0;34m\u001b[0m\u001b[0m\n\u001b[1;32m    134\u001b[0m         \u001b[0;32mif\u001b[0m \u001b[0mdtype\u001b[0m \u001b[0;32mis\u001b[0m \u001b[0;32mnot\u001b[0m \u001b[0;32mNone\u001b[0m\u001b[0;34m:\u001b[0m\u001b[0;34m\u001b[0m\u001b[0m\n\u001b[0;32m--> 135\u001b[0;31m             \u001b[0mdtype\u001b[0m \u001b[0;34m=\u001b[0m \u001b[0m_coerce_to_dtype\u001b[0m\u001b[0;34m(\u001b[0m\u001b[0mdtype\u001b[0m\u001b[0;34m)\u001b[0m\u001b[0;34m\u001b[0m\u001b[0m\n\u001b[0m\u001b[1;32m    136\u001b[0m \u001b[0;34m\u001b[0m\u001b[0m\n\u001b[1;32m    137\u001b[0m             \u001b[0;31m# a compound dtype\u001b[0m\u001b[0;34m\u001b[0m\u001b[0;34m\u001b[0m\u001b[0m\n",
      "\u001b[0;32m/home/maximilian/.local/anaconda3/lib/python3.5/site-packages/pandas/types/common.py\u001b[0m in \u001b[0;36m_coerce_to_dtype\u001b[0;34m(dtype)\u001b[0m\n\u001b[1;32m    311\u001b[0m         \u001b[0mdtype\u001b[0m \u001b[0;34m=\u001b[0m \u001b[0mPeriodDtype\u001b[0m\u001b[0;34m(\u001b[0m\u001b[0mdtype\u001b[0m\u001b[0;34m)\u001b[0m\u001b[0;34m\u001b[0m\u001b[0m\n\u001b[1;32m    312\u001b[0m     \u001b[0;32melse\u001b[0m\u001b[0;34m:\u001b[0m\u001b[0;34m\u001b[0m\u001b[0m\n\u001b[0;32m--> 313\u001b[0;31m         \u001b[0mdtype\u001b[0m \u001b[0;34m=\u001b[0m \u001b[0mnp\u001b[0m\u001b[0;34m.\u001b[0m\u001b[0mdtype\u001b[0m\u001b[0;34m(\u001b[0m\u001b[0mdtype\u001b[0m\u001b[0;34m)\u001b[0m\u001b[0;34m\u001b[0m\u001b[0m\n\u001b[0m\u001b[1;32m    314\u001b[0m     \u001b[0;32mreturn\u001b[0m \u001b[0mdtype\u001b[0m\u001b[0;34m\u001b[0m\u001b[0m\n\u001b[1;32m    315\u001b[0m \u001b[0;34m\u001b[0m\u001b[0m\n",
      "\u001b[0;31mTypeError\u001b[0m: data type not understood"
     ]
    }
   ],
   "source": [
    "#pd.DataFrame(data={'integer':1, 'array':np.array([1,2]), 'string':'test'}, dtype=[int, list, str]) pd.DataFrame(data={'integer':1}, dtype=[int])"
   ]
  },
  {
   "cell_type": "code",
   "execution_count": 25,
   "metadata": {
    "collapsed": false
   },
   "outputs": [],
   "source": [
    "data = pd.DataFrame({\n",
    "        'array':[np.array([1,2,3])]\n",
    "             })"
   ]
  },
  {
   "cell_type": "code",
   "execution_count": 29,
   "metadata": {
    "collapsed": false
   },
   "outputs": [
    {
     "data": {
      "text/plain": [
       "array([3, 2, 1])"
      ]
     },
     "execution_count": 29,
     "metadata": {},
     "output_type": "execute_result"
    }
   ],
   "source": [
    "data.array.squeeze()[::-1]"
   ]
  },
  {
   "cell_type": "code",
   "execution_count": null,
   "metadata": {
    "collapsed": true
   },
   "outputs": [],
   "source": []
  }
 ],
 "metadata": {
  "anaconda-cloud": {},
  "kernelspec": {
   "display_name": "Python [default]",
   "language": "python",
   "name": "python3"
  },
  "language_info": {
   "codemirror_mode": {
    "name": "ipython",
    "version": 3
   },
   "file_extension": ".py",
   "mimetype": "text/x-python",
   "name": "python",
   "nbconvert_exporter": "python",
   "pygments_lexer": "ipython3",
   "version": "3.5.2"
  }
 },
 "nbformat": 4,
 "nbformat_minor": 1
}
