{
 "cells": [
  {
   "cell_type": "code",
   "execution_count": 1,
   "metadata": {
    "collapsed": true
   },
   "outputs": [],
   "source": [
    "import pandas as pd"
   ]
  },
  {
   "cell_type": "code",
   "execution_count": 39,
   "metadata": {
    "collapsed": false
   },
   "outputs": [],
   "source": [
    "class designFeature():\n",
    "    def changePosition(self, data, key1, key2):\n",
    "        storage = pd.DataFrame(data[key1])\n",
    "        data.loc[:, key1] = data[key2].values\n",
    "        data.loc[:, key1] = storage\n",
    "        return data\n",
    "    \n",
    "    def changeEntrys(self, data):\n",
    "        return [data.squeeze()[::-1]]\n",
    "    \n",
    "    def swapInfo(self, data):\n",
    "        data.FinalResult = self.changeEntrys(data.FinalResult)\n",
    "        data.HalftimeResult = self.changeEntrys(data.HalftimeResult)\n",
    "        data = self.changePosition(data, 'GoalTimeTeam1', 'GoalTimeTeam2')\n",
    "        data = self.changePosition(data, 'OvertimeGoalTeam1', 'OvertimeGoalTeam2')\n",
    "        data = self.changePosition(data, 'OwnGoalTeam1', 'OwnGoalTeam2')\n",
    "        data = self.changePosition(data, 'PeanltyTeam1', 'PeanltyTeam1')\n",
    "        data = self.changePosition(data, 'ScorerTeam1', 'ScorerTeam2')\n",
    "        return data\n",
    "    \n",
    "    def featureMatchday(self, data):\n",
    "        matchdayData = pd.DataFrame()\n",
    "        for string, Data in zip(['final', 'halftime'], [data.FinalResult, data.HalftimeResult]):\n",
    "            matchdayData[string + 'GoalDiff'] = np.diff(Data.squeeze())\n",
    "            matchdayData[string + 'scoredGoal'] = Data.squeeze()[0]\n",
    "            matchdayData[string + 'GetGoal'] = Data.squeeze()[1]\n",
    "        return matchdayData"
   ]
  },
  {
   "cell_type": "code",
   "execution_count": 58,
   "metadata": {
    "collapsed": false,
    "scrolled": true
   },
   "outputs": [],
   "source": [
    "class genFeature(designFeature):\n",
    "    def __init__(self, year, day):\n",
    "        self.genMatchday = [year, day]\n",
    "        self.dataActuellMatchday = self.loadMatchday(*self.genMatchday)\n",
    "        \n",
    "    def loadMatchday(Matchday, year, day):\n",
    "        '''Load Matchday with all paarings'''\n",
    "        return pd.read_pickle('./data/'+str(year)).query('Matchday=='+str(day))\n",
    "    \n",
    "    def dataOfATeam(self, data, team):\n",
    "        ''' Search Match of special team and return data and look if home team \n",
    "        Parameters:\n",
    "            data: dict\n",
    "                Matchday data with converted data\n",
    "            team: string \n",
    "                Teamname of the Team\n",
    "        Returns:\n",
    "            list: [isHomeTeam, dataTeam]\n",
    "                isHomeTeam: boolean if the searched team plays home\n",
    "                dataTeam: reduced data to only the match the team played\n",
    "        '''\n",
    "        mask = np.array([])\n",
    "        for x in ['Team1','Team2']:\n",
    "            inData = [team] == data[x].values\n",
    "            mask = np.append(mask, inData) # boolean of wher is searched team\n",
    "        mask = mask.reshape(2, int(len(mask)/2)) # reduce into two dim. [home, away]\n",
    "        boolHome = np.sum(mask, axis=1)[0].astype(bool) # return true if searched team is home Team\n",
    "        return [boolHome, data[np.sum(mask, axis=0).astype(bool)]]\n",
    "    \n",
    "    def unifyData(self, home, data):\n",
    "        ''' unify home/away data, fill empty arrays with Nones\n",
    "        and add boolean Feature 'home'''\n",
    "        for x in data.keys():\n",
    "            if(data[x].squeeze().size==0):\n",
    "                data[x]= np.array([None])\n",
    "        if(home!=True):\n",
    "            data = designFeature().swapInfo(data)\n",
    "            data['home'] = False\n",
    "        else:\n",
    "            data['home']=True\n",
    "        return data\n",
    "    \n",
    "    def featureMatchday(self, data):\n",
    "        return designFeature().featureMatchday(data)\n",
    "        \n",
    "    def appendInfo(self, team, info, iteration):\n",
    "        return self.dataActuellMatchday#['Team1' == team]"
   ]
  },
  {
   "cell_type": "code",
   "execution_count": 59,
   "metadata": {
    "collapsed": false
   },
   "outputs": [],
   "source": [
    "testMatchday = genFeature(2017,2).appendInfo('Hertha BSC',1,1)"
   ]
  },
  {
   "cell_type": "code",
   "execution_count": 60,
   "metadata": {
    "collapsed": false
   },
   "outputs": [],
   "source": [
    "testTeam = genFeature(2017,2).dataOfATeam(testMatchday, 'Hertha BSC')"
   ]
  },
  {
   "cell_type": "code",
   "execution_count": 61,
   "metadata": {
    "collapsed": false
   },
   "outputs": [
    {
     "data": {
      "text/plain": [
       "Index(['DateTime', 'FinalResult', 'GoalTimeTeam1', 'GoalTimeTeam2',\n",
       "       'HalftimeResult', 'Hour', 'Matchday', 'OvertimeGoalTeam1',\n",
       "       'OvertimeGoalTeam2', 'OwnGoalTeam1', 'OwnGoalTeam2', 'PeanltyTeam1',\n",
       "       'PenaltyTeam2', 'ScorerTeam1', 'ScorerTeam2', 'Spectators', 'Team1',\n",
       "       'Team2', 'Weekday'],\n",
       "      dtype='object')"
      ]
     },
     "execution_count": 61,
     "metadata": {},
     "output_type": "execute_result"
    }
   ],
   "source": [
    "testTeam[1].keys()\n"
   ]
  },
  {
   "cell_type": "code",
   "execution_count": 62,
   "metadata": {
    "collapsed": false
   },
   "outputs": [
    {
     "name": "stderr",
     "output_type": "stream",
     "text": [
      "/home/maximilian/.local/anaconda3/lib/python3.5/site-packages/ipykernel/__main__.py:35: SettingWithCopyWarning: \n",
      "A value is trying to be set on a copy of a slice from a DataFrame.\n",
      "Try using .loc[row_indexer,col_indexer] = value instead\n",
      "\n",
      "See the caveats in the documentation: http://pandas.pydata.org/pandas-docs/stable/indexing.html#indexing-view-versus-copy\n",
      "/home/maximilian/.local/anaconda3/lib/python3.5/site-packages/pandas/core/generic.py:2773: SettingWithCopyWarning: \n",
      "A value is trying to be set on a copy of a slice from a DataFrame.\n",
      "Try using .loc[row_indexer,col_indexer] = value instead\n",
      "\n",
      "See the caveats in the documentation: http://pandas.pydata.org/pandas-docs/stable/indexing.html#indexing-view-versus-copy\n",
      "  self[name] = value\n",
      "/home/maximilian/.local/anaconda3/lib/python3.5/site-packages/pandas/core/indexing.py:476: SettingWithCopyWarning: \n",
      "A value is trying to be set on a copy of a slice from a DataFrame.\n",
      "Try using .loc[row_indexer,col_indexer] = value instead\n",
      "\n",
      "See the caveats in the documentation: http://pandas.pydata.org/pandas-docs/stable/indexing.html#indexing-view-versus-copy\n",
      "  self.obj[item] = s\n",
      "/home/maximilian/.local/anaconda3/lib/python3.5/site-packages/ipykernel/__main__.py:38: SettingWithCopyWarning: \n",
      "A value is trying to be set on a copy of a slice from a DataFrame.\n",
      "Try using .loc[row_indexer,col_indexer] = value instead\n",
      "\n",
      "See the caveats in the documentation: http://pandas.pydata.org/pandas-docs/stable/indexing.html#indexing-view-versus-copy\n"
     ]
    }
   ],
   "source": [
    "data = genFeature(2017,2).unifyData(*testTeam)"
   ]
  }
 ],
 "metadata": {
  "anaconda-cloud": {},
  "kernelspec": {
   "display_name": "Python [default]",
   "language": "python",
   "name": "python3"
  }
 },
 "nbformat": 4,
 "nbformat_minor": 1
}
