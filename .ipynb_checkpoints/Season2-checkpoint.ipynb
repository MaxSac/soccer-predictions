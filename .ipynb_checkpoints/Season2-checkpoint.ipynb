{
 "cells": [
  {
   "cell_type": "code",
   "execution_count": 5,
   "metadata": {
    "collapsed": false
   },
   "outputs": [],
   "source": [
    "import os.path\n",
    "\n",
    "def doMergeDict(dict1, dict2):\n",
    "    mergeDict = dict1\n",
    "    for key in dict1.keys():\n",
    "        if(not key in dict2.keys()):\n",
    "            mergeDict[key] = dict1[key]\n",
    "        else:\n",
    "            mergeDict[key] = np.append(mergeDict[key], dict2[key])\n",
    "    for key in dict2.keys():\n",
    "        if(not key in dict1.keys()):\n",
    "            mergeDict[key] = dict2[key]\n",
    "    return mergeDict\n",
    "\n",
    "class season:\n",
    "    def calcDayPlayed(self):\n",
    "        \"\"\" Calculate the played matchdays with help of the json-files.\n",
    "        \"\"\"\n",
    "        matchday = 1\n",
    "        while(os.path.exists(str(self.season)+'/'+str(matchday)+'.json')==True): \n",
    "            matchday +=1\n",
    "        return matchday-1\n",
    "\n",
    "    def loadTeams(self):\n",
    "        ''' Return a array with the names of the teams which played in this season.\n",
    "        '''\n",
    "        data = leauge.loadMatchDay(self, self.season, 1)\n",
    "        teams = []\n",
    "        for x in range(len(data)):\n",
    "            teams = np.append(teams, ([data[x]['Team1']['TeamName'], data[x]['Team2']['TeamName']]))\n",
    "        return teams\n",
    "    \n",
    "    def loadScores(self, matchDay):\n",
    "        data = leauge.loadMatchDay(self, self.season, matchDay)\n",
    "            \n",
    "        score = {'home': 'Team1', 'away': 'Team2'}\n",
    "        \n",
    "        def calcPoints(self, data):\n",
    "            if(data['MatchResults'][1]['PointsTeam1'] > data['MatchResults'][1]['PointsTeam2']): return [3,0]\n",
    "            elif(data['MatchResults'][1]['PointsTeam1'] > data['MatchResults'][1]['PointsTeam2']): return [1,1]\n",
    "            else: return [3,0]\n",
    "            \n",
    "        \n",
    "        for key in score.keys():\n",
    "            result = dict()\n",
    "            halftime = dict()\n",
    "            spectators = dict()\n",
    "            difference = dict()\n",
    "            for x in range(len(data)):\n",
    "                if (key == 'home'): \n",
    "                    result[data[x]['Team1']['TeamName']] = data[x]['MatchResults'][1]['PointsTeam1'] \n",
    "                    halftime[data[x]['Team1']['TeamName']] = data[x]['MatchResults'][0]['PointsTeam1'] \n",
    "                    spectators[data[x]['Team1']['TeamName']] = data[x]['NumberOfViewers']\n",
    "                    difference[data[x]['Team1']['TeamName']] = data[x]['MatchResults'][1]['PointsTeam1'] - data[x]['MatchResults'][1]['PointsTeam2'] \n",
    "                    a =zip(['result', 'halftime', 'spectators', 'difference'],[result, halftime, spectators, difference])\n",
    "                elif (key == 'away'):\n",
    "                    result[data[x]['Team2']['TeamName']] = data[x]['MatchResults'][1]['PointsTeam2'] \n",
    "                    halftime[data[x]['Team2']['TeamName']] = data[x]['MatchResults'][0]['PointsTeam2'] \n",
    "                    difference[data[x]['Team2']['TeamName']] = data[x]['MatchResults'][1]['PointsTeam2'] - data[x]['MatchResults'][1]['PointsTeam1'] \n",
    "                    a = zip(['result', 'halftime', 'difference'],[result, halftime, difference])\n",
    "            score[key] = dict(a)\n",
    "        return score\n",
    "        \n",
    "        #return dict(zip(['homeResults', 'awayResults', 'homeHalftime', 'awayHalftime'], [homeResults, awayResults, homeHalftime, awayHalftime]))\n",
    "    \n",
    "    def scoresSeason(self):\n",
    "        \n",
    "        test = dict()\n",
    "        for key in self.loadScores(1).keys():\n",
    "            storage = dict()\n",
    "            for x in range(self.currentMatchDay-1):\n",
    "                for keyII in self.loadScores(x+1)[key].keys():\n",
    "                    if(x==0):\n",
    "                        storage[keyII] = self.loadScores(x+1)[key][keyII]\n",
    "                    else:\n",
    "                        storage[keyII] = doMergeDict(storage[keyII], self.loadScores(x+1)[key][keyII])\n",
    "                test[key] = storage\n",
    "        return test\n",
    "    \n",
    "    def loadPaarings(self, matchDay):\n",
    "        '''\n",
    "        Als numpy array weil man darin super nach Begegungen suchen kann ... Beispiel:\n",
    "        a = np.array([[1,2],[3,4]])\n",
    "        [1,2] == a\n",
    "        array([[ True,  True],\n",
    "               [False, False]], dtype=bool)\n",
    "        '''\n",
    "        data = leauge.loadMatchDay(self, self.season, matchDay)\n",
    "        parings = np.array([[[data[0]['Team1']['TeamName']], [data[0]['Team2']['TeamName']]]])\n",
    "        \n",
    "        for x in range(len(data)-1):\n",
    "            parings = np.append(parings, [[[data[x+1]['Team1']['TeamName']], [data[x+1]['Team2']['TeamName']]]], axis=0)\n",
    "            \n",
    "        return np.squeeze(parings)\n",
    "\n",
    "    def paaringsSeason(self):\n",
    "        matchPaarungen = [self.loadPaarings(1)]\n",
    "        for x in range(self.currentMatchDay):\n",
    "            matchPaarungen = np.append(matchPaarungen, [self.loadPaarings(x+1)], axis=0)\n",
    "        return np.squeeze(matchPaarungen)\n",
    "        \n",
    "    def __init__(self, season):    \n",
    "        self.season = season\n",
    "        self.currentMatchDay = self.calcDayPlayed()   # Return the last completed matchday\n",
    "        self.teams = self.loadTeams()                 # list of all teams which played in this season\n",
    "        self.scores = self.scoresSeason()\n",
    "        self.matchPaarungen = self.paaringsSeason()\n",
    "            # Ein array an welchen Spieltach welche manschaft gegen Welche gespielt hatt.\n",
    "    \n",
    "        \n",
    "exec(open('Einlesen.py').read())"
   ]
  },
  {
   "cell_type": "code",
   "execution_count": 10,
   "metadata": {
    "collapsed": false,
    "scrolled": true
   },
   "outputs": [
    {
     "name": "stdout",
     "output_type": "stream",
     "text": [
      "{'1. FC Köln': array([ 0,  2,  0, -1, -1,  1, -4,  0,  0,  5, -1, -2,  0, -1, -1]),\n",
      " '1. FSV Mainz 05': array([-1,  2,  1,  0, -3, -2, -1, -1, -3, -4,  2, -1, -1, -1,  0]),\n",
      " 'Bayer 04 Leverkusen': array([-1, -1,  1, -1,  1, -1,  1,  0, -1,  2, -4, -1,  2, -1, -1]),\n",
      " 'Bayern München': array([ 2,  1,  0,  2, -1,  2,  1,  1,  1,  2,  0,  3,  1, -1,  0]),\n",
      " 'Borussia Dortmund': array([-1,  4, -2,  0,  3, -1,  0,  0,  1,  0, -1,  3, -1,  0, -3,  1]),\n",
      " 'Borussia Mönchengladbach': array([-2,  0, -4, -2, -3, -3, -1,  0,  1,  1,  2, -1,  0,  1, -2]),\n",
      " 'Eintracht Frankfurt': array([-1,  2, -1,  3,  0,  1,  0, -1, -3,  1, -3, -2, -3, -1, -2]),\n",
      " 'FC Augsburg': array([ 1,  0, -1, -1,  2,  0, -1,  0,  1, -2,  1, -3, -6, -2, -2]),\n",
      " 'FC Ingolstadt 04': array([ 0, -2, -1, -1, -2,  1, -1,  1, -1, -1,  2, -3, -1,  1, -3]),\n",
      " 'FC Schalke 04': array([-1, -2, -1,  0,  0,  1, -1, -1,  0,  0, -2,  1, -3, -1]),\n",
      " 'Hamburger SV': array([-2, -1, -2,  0, -3,  0,  2, -2, -1, -2,  3, -8,  0, -3, -1]),\n",
      " 'Hertha BSC': array([ 2, -3,  0,  0, -1,  0,  1, -2, -2, -1, -2, -1, -2, -1, -1]),\n",
      " 'RB Leipzig': array([ 0,  4,  0,  1,  2,  1,  3, -1, -3, -1,  1,  0, -3,  1,  0]),\n",
      " 'SC Freiburg': array([-1, -3, -2, -1,  2, -2,  0,  0,  1, -3,  0,  1,  0,  1, -4]),\n",
      " 'SV Darmstadt 98': array([-2, -6, -1, -1, -1, -2, -1, -2, -2, -2, -2, -1, -4, -1,  1]),\n",
      " 'TSG 1899 Hoffenheim': array([ 0,  0,  1,  3,  0,  0,  0,  2, -1, -1,  0,  0,  2, -1,  0]),\n",
      " 'VfL Wolfsburg': array([ 2,  0, -1, -2,  3,  0, -5,  1, -1, -3,  0,  1,  0, -3, -1]),\n",
      " 'Werder Bremen': array([-2, -3,  0, -2, -2,  0,  1,  0, -1,  2,  1,  0,  3,  0,  2])}\n"
     ]
    }
   ],
   "source": [
    "season2016 = season(2016)\n",
    "pprint(season2016.scores['away']['difference'])\n",
    "#season2016.scores\n",
    "#Begegnungen laden und nach einer bestimmten suchen\n",
    "#a = season2016.loadPaarings(30)\n",
    "#print(a)\n",
    "#b = ['1. FC Köln','TSG 1899 Hoffenheim']\n",
    "#b == a"
   ]
  },
  {
   "cell_type": "code",
   "execution_count": 46,
   "metadata": {
    "collapsed": false,
    "scrolled": true
   },
   "outputs": [],
   "source": [
    "'''\n",
    "Laedt aus dem Datensatz alle Mannschaften in den Array leaguemembers\n",
    "'''\n",
    "\n",
    "knowSeason = 2013 #interessante Saison\n",
    "\n",
    "\n",
    "matchdaydata = Bundesliga.loadMatchDay(knowSeason,11)\n",
    "leaguemembers = np.array([[],[]])\n",
    "for a in range(len(matchdaydata)):\n",
    "    team01 = (matchdaydata [a]['Team1']['TeamName'])\n",
    "    leaguemembers = np.append (leaguemembers, team01)\n",
    "for b in range(len(matchdaydata)):\n",
    "    team02 = (matchdaydata [b]['Team2']['TeamName'])\n",
    "    leaguemembers = np.append (leaguemembers, team02)\n",
    "    \n",
    "#print(leaguemembers)"
   ]
  },
  {
   "cell_type": "code",
   "execution_count": 48,
   "metadata": {
    "collapsed": false
   },
   "outputs": [
    {
     "name": "stdout",
     "output_type": "stream",
     "text": [
      "{'Borussia Dortmund': (3, 6), '1. FC Nürnberg': (0, 1)}\n",
      "6 1\n",
      "Borussia Dortmund\n"
     ]
    }
   ],
   "source": [
    "'''\n",
    "aktuelle Tabelle berechnen (erstmal für Spieltag)\n",
    "'''\n",
    "pointwin = 3\n",
    "pointdraw = 1\n",
    "pointlose = 0\n",
    "\n",
    "\n",
    "goalsHomeTeam = matchdaydata[0]['MatchResults'][0]['PointsTeam1']\n",
    "goalsAwayTeam = matchdaydata[0]['MatchResults'][0]['PointsTeam2']\n",
    "\n",
    "if (goalsHomeTeam < goalsAwayTeam):\n",
    "    pointsHome = pointlose\n",
    "    pointsAway = pointwin\n",
    "elif (goalsHomeTeam == goalsAwayTeam):\n",
    "    pointsHome = pointdraw\n",
    "    pointsAway = pointdraw\n",
    "else:\n",
    "    pointsHome = pointwin\n",
    "    pointsAway = pointlose\n",
    "\n",
    "#Dictlist erstellen\n",
    "keys = (leaguemembers)\n",
    "points = [pointsHome, pointsAway]\n",
    "goals = [goalsHomeTeam, goalsAwayTeam]\n",
    "dictionary = dict(zip(keys, zip(points, goals)))\n",
    "print(dictionary)\n",
    "   \n",
    "print (goalsHomeTeam, goalsAwayTeam)\n",
    "print (leaguemembers[0])"
   ]
  },
  {
   "cell_type": "code",
   "execution_count": 50,
   "metadata": {
    "collapsed": false
   },
   "outputs": [
    {
     "data": {
      "text/plain": [
       "('loose', 0)"
      ]
     },
     "execution_count": 50,
     "metadata": {},
     "output_type": "execute_result"
    }
   ],
   "source": [
    "points = zip(['win', 'draw', 'loose'],[3, 1, 0])\n",
    "points.__next__()\n",
    "points.__next__()\n",
    "points.__next__()"
   ]
  },
  {
   "cell_type": "code",
   "execution_count": null,
   "metadata": {
    "collapsed": true
   },
   "outputs": [],
   "source": []
  },
  {
   "cell_type": "code",
   "execution_count": null,
   "metadata": {
    "collapsed": true
   },
   "outputs": [],
   "source": []
  }
 ],
 "metadata": {
  "anaconda-cloud": {},
  "kernelspec": {
   "display_name": "Python [conda root]",
   "language": "python",
   "name": "conda-root-py"
  },
  "language_info": {
   "codemirror_mode": {
    "name": "ipython",
    "version": 3
   },
   "file_extension": ".py",
   "mimetype": "text/x-python",
   "name": "python",
   "nbconvert_exporter": "python",
   "pygments_lexer": "ipython3",
   "version": "3.5.2"
  }
 },
 "nbformat": 4,
 "nbformat_minor": 1
}
