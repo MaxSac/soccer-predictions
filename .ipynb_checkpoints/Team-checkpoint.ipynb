{
 "cells": [
  {
   "cell_type": "code",
   "execution_count": 3,
   "metadata": {
    "collapsed": false
   },
   "outputs": [],
   "source": [
    "class team:\n",
    "    def __init__(self, teamName):\n",
    "        self.teamName = None \n",
    "        self.Stadium = None\n",
    "        \n",
    "    def seasonScores(self, typus='total'):\n",
    "        print('Scores of the Sesons')\n",
    "        print('Home/away/...')\n",
    "        \n",
    "    def headToHead(self):\n",
    "        print('The winner of the last Matches')\n",
    "        print('Home/away/...')\n",
    "        \n",
    "    def leauqueSituation(self):\n",
    "        print('Print the Tablescore of the Team of the actuell Season')\n",
    "        print('Home/away/...')\n",
    "        \n",
    "    def scorer(self):\n",
    "        print('Print all scorer of the Team')\n",
    "        \n",
    "    def whenScoreGoals(self):\n",
    "        print('Gives a hist of the miniutes the team score goals')\n",
    "        \n",
    "    def whenGetGoals(self):\n",
    "        print('Gives a hist of the miniutes the team get goals')\n",
    "    \n",
    "    def seasonsInBundesliga(self):\n",
    "        print('Played season in bundesleauge')\n",
    "        \n",
    "    def loadTeamData(self, teamName):\n",
    "        \n",
    "    \n",
    "        \n",
    "exec(open('Einlesen.py').read())\n",
    "Bundesliga = leauge()\n",
    "data = Bundesliga.loadMatchDay(2013,11)\n"
   ]
  },
  {
   "cell_type": "code",
   "execution_count": 4,
   "metadata": {
    "collapsed": false
   },
   "outputs": [
    {
     "name": "stdout",
     "output_type": "stream",
     "text": [
      "[{'Team2': {'TeamId': 16, 'ShortName': '', 'TeamIconUrl': 'https://www.openligadb.de/images/teamicons/VfB_Stuttgart.gif', 'TeamName': 'VfB Stuttgart'}, 'LeagueId': 623, 'NumberOfViewers': 80645, 'Team1': {'TeamId': 7, 'ShortName': 'BVB', 'TeamIconUrl': 'https://www.openligadb.de/images/teamicons/Borussia_Dortmund.gif', 'TeamName': 'Borussia Dortmund'}, 'LastUpdateDateTime': '2013-11-05T16:53:17.52', 'TimeZoneID': 'W. Europe Standard Time', 'MatchDateTime': '2013-11-01T20:30:00', 'MatchDateTimeUTC': '2013-11-01T19:30:00Z', 'MatchIsFinished': True, 'MatchID': 23921, 'Goals': [{'GoalID': 23338, 'GoalGetterName': 'Haggui', 'IsPenalty': False, 'IsOvertime': False, 'MatchMinute': 13, 'GoalGetterID': 849, 'ScoreTeam1': 0, 'ScoreTeam2': 1, 'IsOwnGoal': False, 'Comment': None}, {'GoalID': 23339, 'GoalGetterName': 'Sokratis', 'IsPenalty': False, 'IsOvertime': False, 'MatchMinute': 19, 'GoalGetterID': 3568, 'ScoreTeam1': 1, 'ScoreTeam2': 1, 'IsOwnGoal': False, 'Comment': None}, {'GoalID': 23340, 'GoalGetterName': 'Reus', 'IsPenalty': False, 'IsOvertime': False, 'MatchMinute': 22, 'GoalGetterID': 357, 'ScoreTeam1': 2, 'ScoreTeam2': 1, 'IsOwnGoal': False, 'Comment': None}, {'GoalID': 23341, 'GoalGetterName': 'Lewandowski', 'IsPenalty': False, 'IsOvertime': False, 'MatchMinute': 54, 'GoalGetterID': 1478, 'ScoreTeam1': 3, 'ScoreTeam2': 1, 'IsOwnGoal': False, 'Comment': None}, {'GoalID': 23342, 'GoalGetterName': 'Lewandowski', 'IsPenalty': False, 'IsOvertime': False, 'MatchMinute': 56, 'GoalGetterID': 1478, 'ScoreTeam1': 4, 'ScoreTeam2': 1, 'IsOwnGoal': False, 'Comment': None}, {'GoalID': 23343, 'GoalGetterName': 'Lewandowski', 'IsPenalty': False, 'IsOvertime': False, 'MatchMinute': 72, 'GoalGetterID': 1478, 'ScoreTeam1': 5, 'ScoreTeam2': 1, 'IsOwnGoal': False, 'Comment': None}, {'GoalID': 23344, 'GoalGetterName': 'Aubameyang', 'IsPenalty': False, 'IsOvertime': False, 'MatchMinute': 81, 'GoalGetterID': 11397, 'ScoreTeam1': 6, 'ScoreTeam2': 1, 'IsOwnGoal': False, 'Comment': None}], 'MatchResults': [{'ResultID': 39428, 'PointsTeam1': 6, 'ResultTypeID': 2, 'PointsTeam2': 1, 'ResultOrderID': 1, 'ResultDescription': 'Ergebnis nach Ende der offiziellen Spielzeit', 'ResultName': 'Endergebnis'}, {'ResultID': 39429, 'PointsTeam1': 2, 'ResultTypeID': 1, 'PointsTeam2': 1, 'ResultOrderID': 2, 'ResultDescription': 'Ergebnis nach Ende der ersten Halbzeit', 'ResultName': 'Halbzeit'}], 'Location': {'LocationStadium': 'Signal-Iduna-Park', 'LocationCity': 'Dortmund', 'LocationID': 184}, 'Group': {'GroupName': '11. Spieltag', 'GroupOrderID': 11, 'GroupID': 13618}}, {'Team2': {'TeamId': 112, 'ShortName': '', 'TeamIconUrl': 'https://www.openligadb.de/images/teamicons/SC_Freiburg.gif', 'TeamName': 'SC Freiburg'}, 'LeagueId': 623, 'NumberOfViewers': 37069, 'Team1': {'TeamId': 79, 'ShortName': '', 'TeamIconUrl': 'https://www.openligadb.de/images/teamicons/1_FC_Nuernberg.gif', 'TeamName': '1. FC Nürnberg'}, 'LastUpdateDateTime': '2013-11-05T14:53:09.383', 'TimeZoneID': 'W. Europe Standard Time', 'MatchDateTime': '2013-11-02T15:30:00', 'MatchDateTimeUTC': '2013-11-02T14:30:00Z', 'MatchIsFinished': True, 'MatchID': 23923, 'Goals': [{'GoalID': 23353, 'GoalGetterName': 'Klaus', 'IsPenalty': False, 'IsOvertime': False, 'MatchMinute': 57, 'GoalGetterID': 1943, 'ScoreTeam1': 0, 'ScoreTeam2': 1, 'IsOwnGoal': False, 'Comment': None}, {'GoalID': 23369, 'GoalGetterName': 'Darida', 'IsPenalty': False, 'IsOvertime': False, 'MatchMinute': 79, 'GoalGetterID': 12471, 'ScoreTeam1': 0, 'ScoreTeam2': 2, 'IsOwnGoal': False, 'Comment': None}, {'GoalID': 23371, 'GoalGetterName': 'Mehmedi', 'IsPenalty': False, 'IsOvertime': False, 'MatchMinute': 88, 'GoalGetterID': 11759, 'ScoreTeam1': 0, 'ScoreTeam2': 3, 'IsOwnGoal': False, 'Comment': None}], 'MatchResults': [{'ResultID': 39434, 'PointsTeam1': 0, 'ResultTypeID': 2, 'PointsTeam2': 3, 'ResultOrderID': 1, 'ResultDescription': 'Ergebnis nach Ende der offiziellen Spielzeit', 'ResultName': 'Endergebnis'}, {'ResultID': 39435, 'PointsTeam1': 0, 'ResultTypeID': 1, 'PointsTeam2': 0, 'ResultOrderID': 2, 'ResultDescription': 'Ergebnis nach Ende der ersten Halbzeit', 'ResultName': 'Halbzeit'}], 'Location': {'LocationStadium': 'Grundig Stadion', 'LocationCity': 'Nürnberg', 'LocationID': 800}, 'Group': {'GroupName': '11. Spieltag', 'GroupOrderID': 11, 'GroupID': 13618}}, {'Team2': {'TeamId': 40, 'ShortName': 'FC Bayern', 'TeamIconUrl': 'https://www.openligadb.de/images/teamicons/Bayern_Muenchen.gif', 'TeamName': 'Bayern München'}, 'LeagueId': 623, 'NumberOfViewers': 30150, 'Team1': {'TeamId': 123, 'ShortName': '', 'TeamIconUrl': 'https://www.openligadb.de/images/teamicons/TSG_Hoffenheim.gif', 'TeamName': 'TSG 1899 Hoffenheim'}, 'LastUpdateDateTime': '2013-11-05T14:53:12.587', 'TimeZoneID': 'W. Europe Standard Time', 'MatchDateTime': '2013-11-02T15:30:00', 'MatchDateTimeUTC': '2013-11-02T14:30:00Z', 'MatchIsFinished': True, 'MatchID': 23924, 'Goals': [{'GoalID': 23351, 'GoalGetterName': 'Süle', 'IsPenalty': False, 'IsOvertime': False, 'MatchMinute': 34, 'GoalGetterID': 11852, 'ScoreTeam1': 1, 'ScoreTeam2': 0, 'IsOwnGoal': False, 'Comment': None}, {'GoalID': 23352, 'GoalGetterName': 'Mandzukic, Mario', 'IsPenalty': False, 'IsOvertime': False, 'MatchMinute': 39, 'GoalGetterID': 11532, 'ScoreTeam1': 1, 'ScoreTeam2': 1, 'IsOwnGoal': False, 'Comment': None}, {'GoalID': 23366, 'GoalGetterName': 'Müller, Thomas', 'IsPenalty': False, 'IsOvertime': False, 'MatchMinute': 75, 'GoalGetterID': 11384, 'ScoreTeam1': 1, 'ScoreTeam2': 2, 'IsOwnGoal': False, 'Comment': None}], 'MatchResults': [{'ResultID': 39436, 'PointsTeam1': 1, 'ResultTypeID': 2, 'PointsTeam2': 2, 'ResultOrderID': 1, 'ResultDescription': 'Ergebnis nach Ende der offiziellen Spielzeit', 'ResultName': 'Endergebnis'}, {'ResultID': 39437, 'PointsTeam1': 1, 'ResultTypeID': 1, 'PointsTeam2': 1, 'ResultOrderID': 2, 'ResultDescription': 'Ergebnis nach Ende der ersten Halbzeit', 'ResultName': 'Halbzeit'}], 'Location': {'LocationStadium': 'WIRSOL Rhein-Neckar-Arena', 'LocationCity': 'Sinsheim', 'LocationID': 511}, 'Group': {'GroupName': '11. Spieltag', 'GroupOrderID': 11, 'GroupID': 13618}}, {'Team2': {'TeamId': 87, 'ShortName': 'Mönchengladbach', 'TeamIconUrl': 'https://www.openligadb.de/images/teamicons/Bor_Moenchengladbach.gif', 'TeamName': 'Borussia Mönchengladbach'}, 'LeagueId': 623, 'NumberOfViewers': 57000, 'Team1': {'TeamId': 100, 'ShortName': 'HSV', 'TeamIconUrl': 'https://www.openligadb.de/images/teamicons/Hamburger_SV.gif', 'TeamName': 'Hamburger SV'}, 'LastUpdateDateTime': '2013-11-05T14:53:13.87', 'TimeZoneID': 'W. Europe Standard Time', 'MatchDateTime': '2013-11-02T15:30:00', 'MatchDateTimeUTC': '2013-11-02T14:30:00Z', 'MatchIsFinished': True, 'MatchID': 23926, 'Goals': [{'GoalID': 23349, 'GoalGetterName': 'Kruse, Max', 'IsPenalty': False, 'IsOvertime': False, 'MatchMinute': 23, 'GoalGetterID': 11539, 'ScoreTeam1': 0, 'ScoreTeam2': 1, 'IsOwnGoal': False, 'Comment': None}, {'GoalID': 23354, 'GoalGetterName': 'Kruse, Max', 'IsPenalty': False, 'IsOvertime': False, 'MatchMinute': 63, 'GoalGetterID': 11539, 'ScoreTeam1': 0, 'ScoreTeam2': 2, 'IsOwnGoal': False, 'Comment': None}], 'MatchResults': [{'ResultID': 39438, 'PointsTeam1': 0, 'ResultTypeID': 2, 'PointsTeam2': 2, 'ResultOrderID': 1, 'ResultDescription': 'Ergebnis nach Ende der offiziellen Spielzeit', 'ResultName': 'Endergebnis'}, {'ResultID': 39439, 'PointsTeam1': 0, 'ResultTypeID': 1, 'PointsTeam2': 1, 'ResultOrderID': 2, 'ResultDescription': 'Ergebnis nach Ende der ersten Halbzeit', 'ResultName': 'Halbzeit'}], 'Location': {'LocationStadium': 'Imtech Arena', 'LocationCity': 'Hamburg ', 'LocationID': 404}, 'Group': {'GroupName': '11. Spieltag', 'GroupOrderID': 11, 'GroupID': 13618}}, {'Team2': {'TeamId': 6, 'ShortName': 'Leverkusen', 'TeamIconUrl': 'https://www.openligadb.de/images/teamicons/Bayer_Leverkusen.gif', 'TeamName': 'Bayer 04 Leverkusen'}, 'LeagueId': 623, 'NumberOfViewers': 22720, 'Team1': {'TeamId': 74, 'ShortName': '', 'TeamIconUrl': 'https://www.openligadb.de/images/teamicons/Eintracht_Braunschweig.gif', 'TeamName': 'Eintracht Braunschweig'}, 'LastUpdateDateTime': '2013-11-05T14:53:17.167', 'TimeZoneID': 'W. Europe Standard Time', 'MatchDateTime': '2013-11-02T15:30:00', 'MatchDateTimeUTC': '2013-11-02T14:30:00Z', 'MatchIsFinished': True, 'MatchID': 23927, 'Goals': [{'GoalID': 23370, 'GoalGetterName': 'Kumbela', 'IsPenalty': False, 'IsOvertime': False, 'MatchMinute': 81, 'GoalGetterID': 1247, 'ScoreTeam1': 1, 'ScoreTeam2': 0, 'IsOwnGoal': False, 'Comment': None}], 'MatchResults': [{'ResultID': 39440, 'PointsTeam1': 1, 'ResultTypeID': 2, 'PointsTeam2': 0, 'ResultOrderID': 1, 'ResultDescription': 'Ergebnis nach Ende der offiziellen Spielzeit', 'ResultName': 'Endergebnis'}, {'ResultID': 39441, 'PointsTeam1': 0, 'ResultTypeID': 1, 'PointsTeam2': 0, 'ResultOrderID': 2, 'ResultDescription': 'Ergebnis nach Ende der ersten Halbzeit', 'ResultName': 'Halbzeit'}], 'Location': {'LocationStadium': 'Eintracht-Stadion', 'LocationCity': 'Braunschweig', 'LocationID': 350}, 'Group': {'GroupName': '11. Spieltag', 'GroupOrderID': 11, 'GroupID': 13618}}, {'Team2': {'TeamId': 9, 'ShortName': 'Schalke', 'TeamIconUrl': 'https://www.openligadb.de/images/teamicons/FC_Schalke_04.gif', 'TeamName': 'FC Schalke 04'}, 'LeagueId': 623, 'NumberOfViewers': 69277, 'Team1': {'TeamId': 54, 'ShortName': '', 'TeamIconUrl': 'https://www.openligadb.de/images/teamicons/Hertha_BSC.gif', 'TeamName': 'Hertha BSC'}, 'LastUpdateDateTime': '2013-11-05T14:53:18.51', 'TimeZoneID': 'W. Europe Standard Time', 'MatchDateTime': '2013-11-02T15:30:00', 'MatchDateTimeUTC': '2013-11-02T14:30:00Z', 'MatchIsFinished': True, 'MatchID': 23929, 'Goals': [{'GoalID': 23350, 'GoalGetterName': 'Szalai', 'IsPenalty': False, 'IsOvertime': False, 'MatchMinute': 26, 'GoalGetterID': 1133, 'ScoreTeam1': 0, 'ScoreTeam2': 1, 'IsOwnGoal': False, 'Comment': None}, {'GoalID': 23372, 'GoalGetterName': 'Draxler', 'IsPenalty': False, 'IsOvertime': False, 'MatchMinute': 94, 'GoalGetterID': 1774, 'ScoreTeam1': 0, 'ScoreTeam2': 2, 'IsOwnGoal': False, 'Comment': None}], 'MatchResults': [{'ResultID': 39442, 'PointsTeam1': 0, 'ResultTypeID': 2, 'PointsTeam2': 2, 'ResultOrderID': 1, 'ResultDescription': 'Ergebnis nach Ende der offiziellen Spielzeit', 'ResultName': 'Endergebnis'}, {'ResultID': 39443, 'PointsTeam1': 0, 'ResultTypeID': 1, 'PointsTeam2': 1, 'ResultOrderID': 2, 'ResultDescription': 'Ergebnis nach Ende der ersten Halbzeit', 'ResultName': 'Halbzeit'}], 'Location': {'LocationStadium': 'Olympiastadion', 'LocationCity': 'Berlin', 'LocationID': 22}, 'Group': {'GroupName': '11. Spieltag', 'GroupOrderID': 11, 'GroupID': 13618}}, {'Team2': {'TeamId': 131, 'ShortName': 'VfL Wolfsburg', 'TeamIconUrl': 'https://www.openligadb.de/images/teamicons/VfL_Wolfsburg.gif', 'TeamName': 'VfL Wolfsburg'}, 'LeagueId': 623, 'NumberOfViewers': 44300, 'Team1': {'TeamId': 91, 'ShortName': '', 'TeamIconUrl': 'https://www.openligadb.de/images/teamicons/Eintracht_Frankfurt.gif', 'TeamName': 'Eintracht Frankfurt'}, 'LastUpdateDateTime': '2013-12-08T22:36:45.797', 'TimeZoneID': 'W. Europe Standard Time', 'MatchDateTime': '2013-11-02T18:30:00', 'MatchDateTimeUTC': '2013-11-02T17:30:00Z', 'MatchIsFinished': True, 'MatchID': 23928, 'Goals': [{'GoalID': 23384, 'GoalGetterName': 'Anderson', 'IsPenalty': False, 'IsOvertime': False, 'MatchMinute': 2, 'GoalGetterID': 508, 'ScoreTeam1': 0, 'ScoreTeam2': 1, 'IsOwnGoal': True, 'Comment': None}, {'GoalID': 23385, 'GoalGetterName': 'Meier', 'IsPenalty': False, 'IsOvertime': False, 'MatchMinute': 35, 'GoalGetterID': 518, 'ScoreTeam1': 1, 'ScoreTeam2': 1, 'IsOwnGoal': False, 'Comment': None}, {'GoalID': 23386, 'GoalGetterName': 'Arnold', 'IsPenalty': False, 'IsOvertime': False, 'MatchMinute': 82, 'GoalGetterID': 10505, 'ScoreTeam1': 1, 'ScoreTeam2': 2, 'IsOwnGoal': False, 'Comment': None}], 'MatchResults': [{'ResultID': 39464, 'PointsTeam1': 1, 'ResultTypeID': 2, 'PointsTeam2': 2, 'ResultOrderID': 1, 'ResultDescription': 'Ergebnis nach Ende der offiziellen Spielzeit', 'ResultName': 'Endergebnis'}, {'ResultID': 39465, 'PointsTeam1': 1, 'ResultTypeID': 1, 'PointsTeam2': 1, 'ResultOrderID': 2, 'ResultDescription': 'Ergebnis nach Ende der ersten Halbzeit', 'ResultName': 'Halbzeit'}], 'Location': {'LocationStadium': 'Commerzbank-Arena', 'LocationCity': 'Frankfurt', 'LocationID': 183}, 'Group': {'GroupName': '11. Spieltag', 'GroupOrderID': 11, 'GroupID': 13618}}, {'Team2': {'TeamId': 81, 'ShortName': 'Mainz 05', 'TeamIconUrl': 'https://www.openligadb.de/images/teamicons/1_FSV_Mainz_05.gif', 'TeamName': '1. FSV Mainz 05'}, 'LeagueId': 623, 'NumberOfViewers': 28007, 'Team1': {'TeamId': 95, 'ShortName': '', 'TeamIconUrl': 'https://www.openligadb.de/images/teamicons/FC_Augsburg.gif', 'TeamName': 'FC Augsburg'}, 'LastUpdateDateTime': '2013-11-05T14:53:22.567', 'TimeZoneID': 'W. Europe Standard Time', 'MatchDateTime': '2013-11-03T15:30:00', 'MatchDateTimeUTC': '2013-11-03T14:30:00Z', 'MatchIsFinished': True, 'MatchID': 23925, 'Goals': [{'GoalID': 23409, 'GoalGetterName': 'Hahn', 'IsPenalty': False, 'IsOvertime': False, 'MatchMinute': 26, 'GoalGetterID': 7523, 'ScoreTeam1': 1, 'ScoreTeam2': 0, 'IsOwnGoal': False, 'Comment': None}, {'GoalID': 23418, 'GoalGetterName': 'Hahn', 'IsPenalty': False, 'IsOvertime': False, 'MatchMinute': 49, 'GoalGetterID': 7523, 'ScoreTeam1': 2, 'ScoreTeam2': 0, 'IsOwnGoal': False, 'Comment': None}, {'GoalID': 23419, 'GoalGetterName': 'Choupo-Moting', 'IsPenalty': True, 'IsOvertime': False, 'MatchMinute': 59, 'GoalGetterID': 657, 'ScoreTeam1': 2, 'ScoreTeam2': 1, 'IsOwnGoal': False, 'Comment': None}], 'MatchResults': [{'ResultID': 39502, 'PointsTeam1': 2, 'ResultTypeID': 2, 'PointsTeam2': 1, 'ResultOrderID': 1, 'ResultDescription': 'Ergebnis nach Ende der offiziellen Spielzeit', 'ResultName': 'Endergebnis'}, {'ResultID': 39503, 'PointsTeam1': 1, 'ResultTypeID': 1, 'PointsTeam2': 0, 'ResultOrderID': 2, 'ResultDescription': 'Ergebnis nach Ende der ersten Halbzeit', 'ResultName': 'Halbzeit'}], 'Location': {'LocationStadium': 'SGL Arena', 'LocationCity': 'Augsburg', 'LocationID': 494}, 'Group': {'GroupName': '11. Spieltag', 'GroupOrderID': 11, 'GroupID': 13618}}, {'Team2': {'TeamId': 55, 'ShortName': '', 'TeamIconUrl': 'https://www.openligadb.de/images/teamicons/Hannover_96.gif', 'TeamName': 'Hannover 96'}, 'LeagueId': 623, 'NumberOfViewers': 40435, 'Team1': {'TeamId': 134, 'ShortName': '', 'TeamIconUrl': 'https://www.openligadb.de/images/teamicons/werder_bremen.gif', 'TeamName': 'Werder Bremen'}, 'LastUpdateDateTime': '2013-11-05T14:53:24.857', 'TimeZoneID': 'W. Europe Standard Time', 'MatchDateTime': '2013-11-03T17:30:00', 'MatchDateTimeUTC': '2013-11-03T16:30:00Z', 'MatchIsFinished': True, 'MatchID': 23922, 'Goals': [{'GoalID': 23420, 'GoalGetterName': 'Huszti', 'IsPenalty': True, 'IsOvertime': False, 'MatchMinute': 20, 'GoalGetterID': 7272, 'ScoreTeam1': 0, 'ScoreTeam2': 1, 'IsOwnGoal': False, 'Comment': None}, {'GoalID': 23421, 'GoalGetterName': 'Hunt', 'IsPenalty': True, 'IsOvertime': False, 'MatchMinute': 25, 'GoalGetterID': 771, 'ScoreTeam1': 1, 'ScoreTeam2': 1, 'IsOwnGoal': False, 'Comment': None}, {'GoalID': 23422, 'GoalGetterName': 'Makiadi', 'IsPenalty': False, 'IsOvertime': False, 'MatchMinute': 38, 'GoalGetterID': 718, 'ScoreTeam1': 2, 'ScoreTeam2': 1, 'IsOwnGoal': False, 'Comment': None}, {'GoalID': 23423, 'GoalGetterName': 'Sakai', 'IsPenalty': False, 'IsOvertime': False, 'MatchMinute': 41, 'GoalGetterID': 10762, 'ScoreTeam1': 2, 'ScoreTeam2': 2, 'IsOwnGoal': False, 'Comment': None}, {'GoalID': 23432, 'GoalGetterName': 'Garcia', 'IsPenalty': False, 'IsOvertime': False, 'MatchMinute': 86, 'GoalGetterID': 12299, 'ScoreTeam1': 3, 'ScoreTeam2': 2, 'IsOwnGoal': False, 'Comment': None}], 'MatchResults': [{'ResultID': 39511, 'PointsTeam1': 3, 'ResultTypeID': 2, 'PointsTeam2': 2, 'ResultOrderID': 1, 'ResultDescription': 'Ergebnis nach Ende der offiziellen Spielzeit', 'ResultName': 'Endergebnis'}, {'ResultID': 39512, 'PointsTeam1': 2, 'ResultTypeID': 1, 'PointsTeam2': 2, 'ResultOrderID': 2, 'ResultDescription': 'Ergebnis nach Ende der ersten Halbzeit', 'ResultName': 'Halbzeit'}], 'Location': {'LocationStadium': 'Weserstadion', 'LocationCity': 'Bremen', 'LocationID': 36}, 'Group': {'GroupName': '11. Spieltag', 'GroupOrderID': 11, 'GroupID': 13618}}]\n"
     ]
    }
   ],
   "source": [
    "print(data)"
   ]
  },
  {
   "cell_type": "code",
   "execution_count": null,
   "metadata": {
    "collapsed": true
   },
   "outputs": [],
   "source": []
  }
 ],
 "metadata": {
  "anaconda-cloud": {},
  "kernelspec": {
   "display_name": "Python [default]",
   "language": "python",
   "name": "python3"
  },
  "language_info": {
   "codemirror_mode": {
    "name": "ipython",
    "version": 3
   },
   "file_extension": ".py",
   "mimetype": "text/x-python",
   "name": "python",
   "nbconvert_exporter": "python",
   "pygments_lexer": "ipython3",
   "version": "3.5.2"
  }
 },
 "nbformat": 4,
 "nbformat_minor": 1
}
