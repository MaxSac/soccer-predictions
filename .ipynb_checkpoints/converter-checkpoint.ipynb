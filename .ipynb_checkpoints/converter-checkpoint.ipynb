{
 "cells": [
  {
   "cell_type": "code",
   "execution_count": 1,
   "metadata": {
    "collapsed": false
   },
   "outputs": [
    {
     "name": "stdout",
     "output_type": "stream",
     "text": [
      "loading ...\n",
      "Finished\n",
      "[2017, 6]\n"
     ]
    }
   ],
   "source": [
    "import json\n",
    "from pandas.io.json import json_normalize\n",
    "exec(open('Einlesen.py').read())"
   ]
  },
  {
   "cell_type": "code",
   "execution_count": 57,
   "metadata": {
    "collapsed": false
   },
   "outputs": [],
   "source": [
    "class getInfo():\n",
    "    def __init__(self, data):\n",
    "        self.data = data\n",
    "        \n",
    "    def mergeMatchGames(self):\n",
    "        for x in range(9):\n",
    "            match = self.data[x]\n",
    "            print(self.getTeam1Name(match)) \n",
    "            print(self.getTeam2Name(match)) \n",
    "            print(self.getHalfResult(match)) \n",
    "            print(self.getEndResult(match)) \n",
    "            print(self.getGoalTimeTeam1(match)) \n",
    "   \n",
    "    def getTeam1Name(self,match):\n",
    "        return match['Team1']['TeamName']\n",
    "    \n",
    "    def getTeam2Name(self,match):\n",
    "        return match['Team2']['TeamName']\n",
    "    \n",
    "    def getHalfResult(self,match):\n",
    "        return [match['MatchResults'][0]['PointsTeam1'], match['MatchResults'][0]['PointsTeam2']]\n",
    "\n",
    "    def getEndResult(self,match):\n",
    "        return [match['MatchResults'][1]['PointsTeam1'], match['MatchResults'][1]['PointsTeam2']]\n",
    "    \n",
    "    def getGoalTimeTeam1(self, match):\n",
    "        minutes = np.array([])\n",
    "        team = np.array([])\n",
    "        for x in match['Goals']:\n",
    "            team = np.append(team, x['ScoreTeam1'])\n",
    "            minutes = np.append(minutes, x['MatchMinute'])\n",
    "        if(len(team)==0):\n",
    "            mask = None\n",
    "        elif(len(team)>0):\n",
    "            mask = np.append(team[0], team[1:]-team[:-1]).astype(bool)\n",
    "        else:\n",
    "            mask = team[0].astype(bool)\n",
    "        return minutes[mask]\n",
    "        #return minutes[mask]"
   ]
  },
  {
   "cell_type": "code",
   "execution_count": 61,
   "metadata": {
    "collapsed": false
   },
   "outputs": [],
   "source": [
    "class converter(downloader, getInfo):\n",
    "    def __init__(self):\n",
    "        self.status = None\n",
    "        self.lastConvMatchday = None\n",
    "    \n",
    "    def saveLastConvMatchday(self):\n",
    "        ''' Save the lastConvMatchday'''\n",
    "        if(self.lastConvMatchday[1] <=1):\n",
    "            lastConvMatchday = [self.lastConvMatchday[0]-1, 34]\n",
    "        else:\n",
    "            lastConvMatchday = [self.lastConvMatchday[0],self.lastConvMatchday[1]-1]\n",
    "        with open('info.json', 'w') as file:\n",
    "            file.write(json.dumps({'LastConvMatchday': lastConvMatchday}))\n",
    "            \n",
    "    def readLastConvMatchday(self):\n",
    "        '''Read the last lastConvMatchday '''\n",
    "        with open('info.json') as file:\n",
    "            dataLoaded = json.load(file)\n",
    "        return dataLoaded['LastConvMatchday']\n",
    "    \n",
    "    def updateSeason(self):\n",
    "        actuellSeason = downloader().readLastLoadMatchday()[0]\n",
    "        if(os.path.exists('season/'+str(actuellSeason)==False)):\n",
    "            print(actuellSeason)\n",
    "    \n",
    "    def loadMatchday(self, year, day):\n",
    "        season_day = (str(year) + '/' + str(day))\n",
    "        with open(season_day+'.json', 'r') as f:#(str(year)+'/'+ str(day) + \n",
    "            return json.load(f)\n",
    "    \n",
    "    def testClass(self):\n",
    "        data = self.loadMatchday(2017,2)\n",
    "        getInfo(data).mergeMatchGames()"
   ]
  },
  {
   "cell_type": "code",
   "execution_count": 62,
   "metadata": {
    "collapsed": false
   },
   "outputs": [
    {
     "data": {
      "text/plain": [
       "array([False,  True, False,  True,  True, False], dtype=bool)"
      ]
     },
     "execution_count": 62,
     "metadata": {},
     "output_type": "execute_result"
    }
   ],
   "source": [
    "a = np.array([0,1,1,2,3,3])\n",
    "np.append(a[0], a[1:]-a[:-1]).astype(bool)"
   ]
  },
  {
   "cell_type": "code",
   "execution_count": 63,
   "metadata": {
    "collapsed": false,
    "scrolled": true
   },
   "outputs": [],
   "source": [
    "#converter().loadMatchday(2017,3)"
   ]
  },
  {
   "cell_type": "code",
   "execution_count": 64,
   "metadata": {
    "collapsed": false,
    "scrolled": false
   },
   "outputs": [
    {
     "name": "stdout",
     "output_type": "stream",
     "text": [
      "1. FC Köln\n",
      "Hamburger SV\n",
      "[0, 2]\n",
      "[1, 3]\n",
      "[ 96.]\n",
      "Werder Bremen\n",
      "Bayern München\n",
      "[0, 0]\n",
      "[0, 2]\n",
      "[]\n",
      "Eintracht Frankfurt\n",
      "VfL Wolfsburg\n",
      "[0, 1]\n",
      "[0, 1]\n",
      "[]\n",
      "Bayer 04 Leverkusen\n",
      "TSG 1899 Hoffenheim\n",
      "[1, 0]\n",
      "[2, 2]\n",
      "[ 32.  49.]\n",
      "FC Augsburg\n",
      "Borussia Mönchengladbach\n",
      "[1, 2]\n",
      "[2, 2]\n",
      "[  1.  89.]\n",
      "VfB Stuttgart\n",
      "1. FSV Mainz 05\n",
      "[0, 0]\n",
      "[1, 0]\n",
      "[ 53.]\n",
      "Borussia Dortmund\n",
      "Hertha BSC\n",
      "[1, 0]\n",
      "[2, 0]\n",
      "[ 15.  57.]\n",
      "RB Leipzig\n",
      "SC Freiburg\n",
      "[0, 1]\n",
      "[4, 1]\n",
      "[ 48.  55.  69.  77.]\n",
      "Hannover 96\n",
      "FC Schalke 04\n",
      "[0, 0]\n",
      "[1, 0]\n",
      "[ 67.]\n"
     ]
    }
   ],
   "source": [
    "converter().testClass()"
   ]
  },
  {
   "cell_type": "code",
   "execution_count": 50,
   "metadata": {
    "collapsed": false
   },
   "outputs": [],
   "source": [
    "json_data=open('2017/1.json').read()"
   ]
  },
  {
   "cell_type": "code",
   "execution_count": 51,
   "metadata": {
    "collapsed": false
   },
   "outputs": [],
   "source": [
    "data = json.loads(json_data)"
   ]
  },
  {
   "cell_type": "code",
   "execution_count": 52,
   "metadata": {
    "collapsed": false,
    "scrolled": true
   },
   "outputs": [
    {
     "data": {
      "text/plain": [
       "{'Goals': [{'Comment': None,\n",
       "   'GoalGetterID': 16077,\n",
       "   'GoalGetterName': 'Christian Pulisic',\n",
       "   'GoalID': 60264,\n",
       "   'IsOvertime': False,\n",
       "   'IsOwnGoal': False,\n",
       "   'IsPenalty': False,\n",
       "   'MatchMinute': 23,\n",
       "   'ScoreTeam1': 0,\n",
       "   'ScoreTeam2': 1},\n",
       "  {'Comment': None,\n",
       "   'GoalGetterID': 2021,\n",
       "   'GoalGetterName': 'Barta',\n",
       "   'GoalID': 60265,\n",
       "   'IsOvertime': False,\n",
       "   'IsOwnGoal': False,\n",
       "   'IsPenalty': False,\n",
       "   'MatchMinute': 27,\n",
       "   'ScoreTeam1': 0,\n",
       "   'ScoreTeam2': 2},\n",
       "  {'Comment': None,\n",
       "   'GoalGetterID': 16033,\n",
       "   'GoalGetterName': 'Pierre-Emerick Aubameyang',\n",
       "   'GoalID': 60273,\n",
       "   'IsOvertime': False,\n",
       "   'IsOwnGoal': False,\n",
       "   'IsPenalty': False,\n",
       "   'MatchMinute': 60,\n",
       "   'ScoreTeam1': 0,\n",
       "   'ScoreTeam2': 3}],\n",
       " 'Group': {'GroupID': 28947, 'GroupName': '1. Spieltag', 'GroupOrderID': 1},\n",
       " 'LastUpdateDateTime': '2017-08-20T17:32:37.927',\n",
       " 'LeagueId': 4153,\n",
       " 'LeagueName': '1. Fußball-Bundesliga 2017/2018',\n",
       " 'Location': {'LocationCity': 'Wolfsburg',\n",
       "  'LocationID': 20,\n",
       "  'LocationStadium': 'Volkswagen Arena '},\n",
       " 'MatchDateTime': '2017-08-19T15:30:00',\n",
       " 'MatchDateTimeUTC': '2017-08-19T13:30:00Z',\n",
       " 'MatchID': 45445,\n",
       " 'MatchIsFinished': True,\n",
       " 'MatchResults': [{'PointsTeam1': 0,\n",
       "   'PointsTeam2': 2,\n",
       "   'ResultDescription': 'Ergebnis zur Halbzeit',\n",
       "   'ResultID': 75541,\n",
       "   'ResultName': 'Halbzeitergebnis',\n",
       "   'ResultOrderID': 1,\n",
       "   'ResultTypeID': 1},\n",
       "  {'PointsTeam1': 0,\n",
       "   'PointsTeam2': 3,\n",
       "   'ResultDescription': 'Ergebnis nach Spielende',\n",
       "   'ResultID': 75549,\n",
       "   'ResultName': 'Endergebnis',\n",
       "   'ResultOrderID': 2,\n",
       "   'ResultTypeID': 2}],\n",
       " 'NumberOfViewers': 30000,\n",
       " 'Team1': {'ShortName': 'VfL Wolfsburg',\n",
       "  'TeamIconUrl': 'https://upload.wikimedia.org/wikipedia/commons/thumb/f/f3/Logo-VfL-Wolfsburg.svg/20px-Logo-VfL-Wolfsburg.svg.png',\n",
       "  'TeamId': 131,\n",
       "  'TeamName': 'VfL Wolfsburg'},\n",
       " 'Team2': {'ShortName': 'BVB',\n",
       "  'TeamIconUrl': 'https://upload.wikimedia.org/wikipedia/commons/thumb/6/67/Borussia_Dortmund_logo.svg/20px-Borussia_Dortmund_logo.svg.png',\n",
       "  'TeamId': 7,\n",
       "  'TeamName': 'Borussia Dortmund'},\n",
       " 'TimeZoneID': 'W. Europe Standard Time'}"
      ]
     },
     "execution_count": 52,
     "metadata": {},
     "output_type": "execute_result"
    }
   ],
   "source": [
    "data[5]"
   ]
  },
  {
   "cell_type": "code",
   "execution_count": 37,
   "metadata": {
    "collapsed": false
   },
   "outputs": [
    {
     "data": {
      "text/plain": [
       "2017"
      ]
     },
     "execution_count": 37,
     "metadata": {},
     "output_type": "execute_result"
    }
   ],
   "source": [
    "downloader().readLastLoadMatchday()[0]"
   ]
  },
  {
   "cell_type": "code",
   "execution_count": 58,
   "metadata": {
    "collapsed": false
   },
   "outputs": [
    {
     "data": {
      "text/plain": [
       "<__main__.getInfo at 0x7fa61b017fd0>"
      ]
     },
     "execution_count": 58,
     "metadata": {},
     "output_type": "execute_result"
    }
   ],
   "source": []
  },
  {
   "cell_type": "code",
   "execution_count": null,
   "metadata": {
    "collapsed": true
   },
   "outputs": [],
   "source": []
  }
 ],
 "metadata": {
  "anaconda-cloud": {},
  "kernelspec": {
   "display_name": "Python [default]",
   "language": "python",
   "name": "python3"
  }
 },
 "nbformat": 4,
 "nbformat_minor": 1
}
