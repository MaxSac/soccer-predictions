{
 "cells": [
  {
   "cell_type": "code",
   "execution_count": 32,
   "metadata": {
    "collapsed": false
   },
   "outputs": [],
   "source": [
    "import os.path\n",
    "\n",
    "exec(open('Einlesen.py').read())\n",
    "\n",
    "def doMergeDict(dict1, dict2):\n",
    "    mergeDict = dict1\n",
    "    for key in dict1.keys():\n",
    "        if(not key in dict2.keys()):\n",
    "            mergeDict[key] = dict1[key]\n",
    "        else:\n",
    "            mergeDict[key] = np.append(mergeDict[key], dict2[key])\n",
    "    for key in dict2.keys():\n",
    "        if(not key in dict1.keys()):\n",
    "            mergeDict[key] = dict2[key]\n",
    "    return mergeDict\n",
    "\n",
    "class season(leauge):\n",
    "    \n",
    "    def calcDayPlayed(self):\n",
    "        \"\"\" Calculate the played matchdays with help of the json-files.\n",
    "        \n",
    "        Returns:\n",
    "            The last played compelted matchday.\n",
    "        \"\"\"\n",
    "        matchday = 1\n",
    "        while(os.path.exists(str(self.season)+'/'+str(matchday)+'.json')==True): \n",
    "            matchday +=1\n",
    "        return matchday-1\n",
    "\n",
    "    def loadTeams(self):\n",
    "        ''' Return a array with the names of the teams which \n",
    "            played in this season. Creates an .json file wich\n",
    "            saved the teamnames at the keyword:'teams'.\n",
    "        '''\n",
    "        data = leauge.loadMatchDay(self, self.season, 1)\n",
    "        teams = []\n",
    "        for x in range(len(data)):\n",
    "            teams = np.append(teams, \n",
    "                              ([data[x]['Team1']['TeamName'], \n",
    "                                data[x]['Team2']['TeamName']]))\n",
    "        with open('info.json', 'r') as file:\n",
    "            json_data = json.load(file)\n",
    "        json_data.update({'teams'+str(self.season): teams.tolist()})\n",
    "        with open('info.json', 'w') as file:\n",
    "            file.write(json.dumps(json_data))\n",
    "        return teams\n",
    "    \n",
    "    def loadScores(self, matchDay):\n",
    "        ''' Load the halftime-/final-result, spectators, \n",
    "            goaldifference from the selected matchday\n",
    "        \n",
    "        parameters:\n",
    "            matchDay: int\n",
    "                This should be the day, where the informations are about.\n",
    "            \n",
    "        returns:\n",
    "            score: dict\n",
    "                With scalar values of the matchday\n",
    "        '''\n",
    "        data = leauge.loadMatchDay(self, self.season, matchDay)\n",
    "        score = {'home': 'Team1', 'away': 'Team2'}\n",
    "        for key in score.keys():\n",
    "            result = dict()\n",
    "            halftime = dict()\n",
    "            spectators = dict()\n",
    "            difference = dict()\n",
    "            matchday = dict()\n",
    "            for x in range(len(data)):\n",
    "                if (key == 'home'): \n",
    "                    result[data[x]['Team1']['TeamName']] = data[x]['MatchResults'][1]['PointsTeam1'] \n",
    "                    halftime[data[x]['Team1']['TeamName']] = data[x]['MatchResults'][0]['PointsTeam1'] \n",
    "                    spectators[data[x]['Team1']['TeamName']] = data[x]['NumberOfViewers']\n",
    "                    difference[data[x]['Team1']['TeamName']] = data[x]['MatchResults'][1]['PointsTeam1'] - data[x]['MatchResults'][1]['PointsTeam2'] \n",
    "                    matchday[data[x]['Team1']['TeamName']] = matchDay\n",
    "                    a =zip(['result', 'halftime', 'spectators', 'difference', 'matchday'],[result, halftime, spectators, difference, matchday])\n",
    "                elif (key == 'away'):\n",
    "                    result[data[x]['Team2']['TeamName']] = data[x]['MatchResults'][1]['PointsTeam2'] \n",
    "                    halftime[data[x]['Team2']['TeamName']] = data[x]['MatchResults'][0]['PointsTeam2'] \n",
    "                    difference[data[x]['Team2']['TeamName']] = data[x]['MatchResults'][1]['PointsTeam2'] - data[x]['MatchResults'][1]['PointsTeam1'] \n",
    "                    matchday[data[x]['Team2']['TeamName']] = matchDay\n",
    "                    a = zip(['result', 'halftime', 'difference', 'matchday'],[result, halftime, difference, matchday])\n",
    "            score[key] = dict(a)\n",
    "        return score\n",
    "        \n",
    "    def scoresSeason(self):\n",
    "        ''' Make out of the scalar values from a single load values \n",
    "            an nd.array with the stats from beginning up to date. For \n",
    "            more information about the values, look to leaque.loadScores().\n",
    "        \n",
    "        returns:\n",
    "            season: dict\n",
    "                A dict full of informations, about the game stats. \n",
    "        '''\n",
    "        season = dict()\n",
    "        for key in self.loadScores(1).keys():\n",
    "            storage = dict()\n",
    "            for x in range(self.currentMatchDay-1):\n",
    "                for keyII in self.loadScores(x+1)[key].keys():\n",
    "                    if(x==0):\n",
    "                        storage[keyII] = self.loadScores(x+1)[key][keyII]\n",
    "                    else:\n",
    "                        storage[keyII] = doMergeDict(storage[keyII], \n",
    "                                                     self.loadScores(x+1)[key][keyII])\n",
    "                season[key] = storage\n",
    "        return season\n",
    "    \n",
    "    def loadPaarings(self, matchDay):\n",
    "        ''' Preferce an numpy array, because search is easily. An example:\n",
    "        a = np.array([[1,2],[3,4]])\n",
    "        [1,2] == a\n",
    "        array([[ True,  True],\n",
    "               [False, False]], dtype=bool)\n",
    "        '''\n",
    "        data = leauge.loadMatchDay(self, self.season, matchDay)\n",
    "        parings = np.array([[[data[0]['Team1']['TeamName']], [data[0]['Team2']['TeamName']]]])\n",
    "        for x in range(len(data)-1):\n",
    "            parings = np.append(parings, \n",
    "                                [[[data[x+1]['Team1']['TeamName']], \n",
    "                                  [data[x+1]['Team2']['TeamName']]]],\n",
    "                                axis=0)\n",
    "        return np.squeeze(parings)\n",
    "\n",
    "    def paaringsSeason(self):\n",
    "        '''load parings from the whole season\n",
    "        '''\n",
    "        matchPaarungen = [self.loadPaarings(1)]\n",
    "        for x in range(self.currentMatchDay):\n",
    "            matchPaarungen = np.append(matchPaarungen, \n",
    "                                       [self.loadPaarings(x+1)], \n",
    "                                       axis=0)\n",
    "        return np.squeeze(matchPaarungen)\n",
    "    \n",
    "    def calcPoints(self, typ='total'):\n",
    "        ''' Returns the points of the actuell season.\n",
    "        parameters:\n",
    "            typ = 'total'/'away'/'home'\n",
    "        returns:\n",
    "            points:\n",
    "                Dict of teamname and an array of Points\n",
    "        '''\n",
    "        points = dict()\n",
    "        if(typ=='total'):\n",
    "            typ = 'home'\n",
    "            home = self.calcPoints('home')\n",
    "            typ = 'away'\n",
    "            away = self.calcPoints('away')\n",
    "            for team in self.teams:\n",
    "                points[team] = np.append(home[team], away[team]) \n",
    "                matchday = np.append(self.scores['home']['matchday'][team], \n",
    "                                     self.scores['away']['matchday'][team])\n",
    "                points[team] = np.squeeze(np.array([x for (y,x) in sorted(zip(matchday,points[team]))]))\n",
    "            return points\n",
    "        for x in self.teams:\n",
    "            diff = np.array(self.scores[typ]['difference'][x])\n",
    "            win = diff > 0\n",
    "            draw = diff == 0\n",
    "            loose = diff < 0\n",
    "            for a in zip([win, draw, loose], [3,1,0]):\n",
    "                diff[a[0]] = a[1]\n",
    "            points[x] = diff \n",
    "        return points\n",
    "    \n",
    "    def calcTable(self, typeOfTable='total', matchday = 1):\n",
    "        points = np.array([])\n",
    "        scores = np.array([])\n",
    "        team =  np.array([])\n",
    "        threeWays = np.array([])\n",
    "        for teams in self.teams:\n",
    "            points = np.append(points, np.sum(self.calcPoints(typeOfTable)[teams]))\n",
    "            threeWays = np.append(threeWays, dict(zip(['win','draw','loose'],\n",
    "                                                      [np.sum(self.calcPoints(typeOfTable)[teams]==3), \n",
    "                                                       np.sum(self.calcPoints(typeOfTable)[teams]==1), \n",
    "                                                       np.sum(self.calcPoints(typeOfTable)[teams]==0)])))\n",
    "            if(typeOfTable=='total'):\n",
    "                scores = np.append(scores, np.sum(self.scores['home']['difference'][teams]) + \n",
    "                                   np.sum(self.scores['away']['difference'][teams]))\n",
    "            else:\n",
    "                scores = np.append(scores, np.sum(self.scores[typeOfTable]['difference'][teams]))\n",
    "            team = np.append(team, teams)\n",
    "        mask = np.lexsort((scores, points))[::-1] #flip the list from 18 to 1, to 1 to 18\n",
    "        table = dict()\n",
    "        for x in mask:\n",
    "            table[x+1] = dict(zip(['club','points', 'score', 'threeWays'],\n",
    "                                  [team[mask[x]], points[mask[x]], scores[mask[x]], threeWays[mask[x]]]))\n",
    "        return table\n",
    "    \n",
    "    def matchSearch(self, team1, team2, order=False):\n",
    "        \"\"\" Search after a game in a Season\n",
    "        parameters: \n",
    "            team1: str\n",
    "                searched home team \n",
    "            team2: str \n",
    "                searched away team \n",
    "            order: boolean \n",
    "                look equaly for change home and away team\n",
    "        returns:\n",
    "            resonse: np.array\n",
    "                [ matchday, game ]\n",
    "        \"\"\"\n",
    "        mask = self.matchPaarings == [str(team1), str(team2)]\n",
    "        matchDay = lambda x : np.sum(mask[x][:][:], axis=1)\n",
    "        response = []\n",
    "        for x in range(self.currentMatchDay):\n",
    "            if(np.argwhere(np.array(matchDay(x))==2)>=0):\n",
    "                response = [x, np.argwhere(np.array(matchDay(x))==2).reshape(1)]\n",
    "        if(order==True):\n",
    "            response = [response, self.matchSearch(team2, team1)]\n",
    "        return np.array(response)\n",
    "    \n",
    "    def teamResults(self, team, day):\n",
    "        \"\"\" Load the Matchinformation from the selected matchday\n",
    "        parameters:\n",
    "            team: str\n",
    "                team of which the information are searched\n",
    "            day: int\n",
    "                matchday the information are needed\n",
    "        returns:\n",
    "            Data[matchNumber]: dict\n",
    "                dict with all information about the game the searched game is involved\n",
    "        \"\"\"\n",
    "        Data = self.loadMatchDay(self.season, day)\n",
    "        matchNumber = 0\n",
    "        while(Data[matchNumber]['Team1']['TeamName'] != team and Data[matchNumber]['Team2']['TeamName'] != team):\n",
    "            matchNumber += 1\n",
    "        return Data[matchNumber]\n",
    "    \n",
    "    def teamResultsSeason(self, team, number=None):\n",
    "        \"\"\"\n",
    "        parameters:\n",
    "            team: str\n",
    "                loaded team\n",
    "            number: int \n",
    "                the number of matches there schould be \n",
    "                loaded from the actuell matchday\n",
    "        returns:\n",
    "            the Matchresults of the Team up to a complete season\n",
    "        \"\"\"\n",
    "        results = []\n",
    "        if(number == None): number =self.currentMatchDay\n",
    "        if(number >= self.currentMatchDay): print('Warning, excaption must be written')\n",
    "        for x in range(number):\n",
    "            results.append(self.teamResults(team, self.currentMatchDay-x))\n",
    "        return results\n",
    "    \n",
    "    def __init__(self, season):    \n",
    "        self.season = season\n",
    "        self.currentMatchDay = self.calcDayPlayed()   # Return the last completed matchday\n",
    "        self.teams = self.loadTeams()                 # list of all teams which played in this season\n",
    "        self.scores = self.scoresSeason()\n",
    "        self.matchPaarings = self.paaringsSeason()\n",
    "            # Ein array an welchen Spieltach welche manschaft gegen Welche gespielt hatt.\n",
    "        "
   ]
  },
  {
   "cell_type": "markdown",
   "metadata": {},
   "source": [
    "## ToDo\n",
    "    - write leaque information in file down"
   ]
  },
  {
   "cell_type": "code",
   "execution_count": 34,
   "metadata": {
    "collapsed": false,
    "scrolled": true
   },
   "outputs": [
    {
     "data": {
      "text/plain": [
       "{'Goals': [{'Comment': '',\n",
       "   'GoalGetterID': 16033,\n",
       "   'GoalGetterName': 'Pierre-Emerick Aubameyang',\n",
       "   'GoalID': 55579,\n",
       "   'IsOvertime': False,\n",
       "   'IsOwnGoal': False,\n",
       "   'IsPenalty': False,\n",
       "   'MatchMinute': 11,\n",
       "   'ScoreTeam1': 1,\n",
       "   'ScoreTeam2': 0}],\n",
       " 'Group': {'GroupID': 23843, 'GroupName': '11. Spieltag', 'GroupOrderID': 11},\n",
       " 'LastUpdateDateTime': '2016-11-24T19:57:28.54',\n",
       " 'LeagueId': 3005,\n",
       " 'Location': {'LocationCity': 'Dortmund',\n",
       "  'LocationID': 184,\n",
       "  'LocationStadium': 'Signal-Iduna-Park'},\n",
       " 'MatchDateTime': '2016-11-19T18:30:00',\n",
       " 'MatchDateTimeUTC': '2016-11-19T17:30:00Z',\n",
       " 'MatchID': 39738,\n",
       " 'MatchIsFinished': True,\n",
       " 'MatchResults': [{'PointsTeam1': 1,\n",
       "   'PointsTeam2': 0,\n",
       "   'ResultDescription': 'Ergebnis zur Halbzeit',\n",
       "   'ResultID': 70293,\n",
       "   'ResultName': 'Halbzeitergebnis',\n",
       "   'ResultOrderID': 1,\n",
       "   'ResultTypeID': 1},\n",
       "  {'PointsTeam1': 1,\n",
       "   'PointsTeam2': 0,\n",
       "   'ResultDescription': 'Ergebnis nach Spielende',\n",
       "   'ResultID': 70295,\n",
       "   'ResultName': 'Endergebnis',\n",
       "   'ResultOrderID': 2,\n",
       "   'ResultTypeID': 2}],\n",
       " 'NumberOfViewers': 81360,\n",
       " 'Team1': {'ShortName': 'BVB',\n",
       "  'TeamIconUrl': 'https://www.openligadb.de/images/teamicons/Borussia_Dortmund.gif',\n",
       "  'TeamId': 7,\n",
       "  'TeamName': 'Borussia Dortmund'},\n",
       " 'Team2': {'ShortName': 'FC Bayern',\n",
       "  'TeamIconUrl': 'https://www.openligadb.de/images/teamicons/Bayern_Muenchen.gif',\n",
       "  'TeamId': 40,\n",
       "  'TeamName': 'Bayern München'},\n",
       " 'TimeZoneID': 'W. Europe Standard Time'}"
      ]
     },
     "execution_count": 34,
     "metadata": {},
     "output_type": "execute_result"
    }
   ],
   "source": [
    "season2014 =  season(2014)\n",
    "season2013 =  season(2013)\n",
    "season2015 =  season(2015)\n",
    "season2016 =  season(2016)\n",
    "season2016.teamResults('Borussia Dortmund',11)\n",
    "#season2014.teamResultsSeason('Borussia Dortmund')\n",
    "#season2014.matchSearch('Borussia Dortmund', 'VfL Wolfsburg', order=True)"
   ]
  },
  {
   "cell_type": "code",
   "execution_count": 24,
   "metadata": {
    "collapsed": false
   },
   "outputs": [
    {
     "data": {
      "text/plain": [
       "<__main__.season at 0x7f216ab589b0>"
      ]
     },
     "execution_count": 24,
     "metadata": {},
     "output_type": "execute_result"
    }
   ],
   "source": [
    "season(2014)"
   ]
  },
  {
   "cell_type": "code",
   "execution_count": 25,
   "metadata": {
    "collapsed": false,
    "scrolled": true
   },
   "outputs": [
    {
     "name": "stdout",
     "output_type": "stream",
     "text": [
      "{'LastLoadMatchday': [2016, 11],\n",
      " 'teams2014': ['Bayern München',\n",
      "               'VfL Wolfsburg',\n",
      "               'TSG 1899 Hoffenheim',\n",
      "               'FC Augsburg',\n",
      "               'Hannover 96',\n",
      "               'FC Schalke 04',\n",
      "               'Hertha BSC',\n",
      "               'Werder Bremen',\n",
      "               'Eintracht Frankfurt',\n",
      "               'SC Freiburg',\n",
      "               '1. FC Köln',\n",
      "               'Hamburger SV',\n",
      "               'Borussia Dortmund',\n",
      "               'Bayer 04 Leverkusen',\n",
      "               'SC Paderborn 07',\n",
      "               '1. FSV Mainz 05',\n",
      "               'Borussia Mönchengladbach',\n",
      "               'VfB Stuttgart']}\n"
     ]
    },
    {
     "data": {
      "text/plain": [
       "{1: {'club': 'Bayern München',\n",
       "  'points': 68.0,\n",
       "  'score': 25.0,\n",
       "  'threeWays': {'draw': 11, 'loose': 3, 'win': 19}},\n",
       " 2: {'club': 'Borussia Mönchengladbach',\n",
       "  'points': 57.0,\n",
       "  'score': 17.0,\n",
       "  'threeWays': {'draw': 18, 'loose': 2, 'win': 13}},\n",
       " 3: {'club': 'VfL Wolfsburg',\n",
       "  'points': 56.0,\n",
       "  'score': 15.0,\n",
       "  'threeWays': {'draw': 14, 'loose': 5, 'win': 14}},\n",
       " 4: {'club': 'Bayer 04 Leverkusen',\n",
       "  'points': 49.0,\n",
       "  'score': 8.0,\n",
       "  'threeWays': {'draw': 16, 'loose': 6, 'win': 11}},\n",
       " 5: {'club': '1. FSV Mainz 05',\n",
       "  'points': 46.0,\n",
       "  'score': 5.0,\n",
       "  'threeWays': {'draw': 16, 'loose': 7, 'win': 10}},\n",
       " 6: {'club': 'Eintracht Frankfurt',\n",
       "  'points': 43.0,\n",
       "  'score': 3.0,\n",
       "  'threeWays': {'draw': 16, 'loose': 8, 'win': 9}},\n",
       " 7: {'club': 'FC Schalke 04',\n",
       "  'points': 43.0,\n",
       "  'score': 3.0,\n",
       "  'threeWays': {'draw': 16, 'loose': 8, 'win': 9}},\n",
       " 8: {'club': 'Werder Bremen',\n",
       "  'points': 42.0,\n",
       "  'score': -3.0,\n",
       "  'threeWays': {'draw': 15, 'loose': 9, 'win': 9}},\n",
       " 9: {'club': 'Borussia Dortmund',\n",
       "  'points': 41.0,\n",
       "  'score': 2.0,\n",
       "  'threeWays': {'draw': 14, 'loose': 10, 'win': 9}},\n",
       " 10: {'club': 'Hamburger SV',\n",
       "  'points': 38.0,\n",
       "  'score': -7.0,\n",
       "  'threeWays': {'draw': 14, 'loose': 11, 'win': 8}},\n",
       " 11: {'club': '1. FC Köln',\n",
       "  'points': 37.0,\n",
       "  'score': 0.0,\n",
       "  'threeWays': {'draw': 22, 'loose': 6, 'win': 5}},\n",
       " 12: {'club': 'TSG 1899 Hoffenheim',\n",
       "  'points': 37.0,\n",
       "  'score': -6.0,\n",
       "  'threeWays': {'draw': 13, 'loose': 12, 'win': 8}},\n",
       " 13: {'club': 'Hertha BSC',\n",
       "  'points': 36.0,\n",
       "  'score': -5.0,\n",
       "  'threeWays': {'draw': 18, 'loose': 9, 'win': 6}},\n",
       " 14: {'club': 'Hannover 96',\n",
       "  'points': 35.0,\n",
       "  'score': -8.0,\n",
       "  'threeWays': {'draw': 17, 'loose': 10, 'win': 6}},\n",
       " 15: {'club': 'SC Freiburg',\n",
       "  'points': 34.0,\n",
       "  'score': -9.0,\n",
       "  'threeWays': {'draw': 13, 'loose': 13, 'win': 7}},\n",
       " 16: {'club': 'FC Augsburg',\n",
       "  'points': 33.0,\n",
       "  'score': -10.0,\n",
       "  'threeWays': {'draw': 15, 'loose': 12, 'win': 6}},\n",
       " 17: {'club': 'VfB Stuttgart',\n",
       "  'points': 32.0,\n",
       "  'score': -12.0,\n",
       "  'threeWays': {'draw': 17, 'loose': 11, 'win': 5}},\n",
       " 18: {'club': 'SC Paderborn 07',\n",
       "  'points': 23.0,\n",
       "  'score': -18.0,\n",
       "  'threeWays': {'draw': 17, 'loose': 14, 'win': 2}}}"
      ]
     },
     "execution_count": 25,
     "metadata": {},
     "output_type": "execute_result"
    }
   ],
   "source": [
    "season(2014).calcTable()"
   ]
  },
  {
   "cell_type": "code",
   "execution_count": 21,
   "metadata": {
    "collapsed": false,
    "scrolled": true
   },
   "outputs": [],
   "source": [
    "a = season2016.matchSearch(Bayern Münchn','1. FSV Mainz 05', True)"
   ]
  },
  {
   "cell_type": "code",
   "execution_count": 27,
   "metadata": {
    "collapsed": false
   },
   "outputs": [
    {
     "data": {
      "text/plain": [
       "array([], dtype=float64)"
      ]
     },
     "execution_count": 27,
     "metadata": {},
     "output_type": "execute_result"
    }
   ],
   "source": [
    "season2016.matchSearch('', '')"
   ]
  },
  {
   "cell_type": "code",
   "execution_count": 1,
   "metadata": {
    "collapsed": false
   },
   "outputs": [
    {
     "ename": "NameError",
     "evalue": "name 'season2016' is not defined",
     "output_type": "error",
     "traceback": [
      "\u001b[0;31m---------------------------------------------------------------------------\u001b[0m",
      "\u001b[0;31mNameError\u001b[0m                                 Traceback (most recent call last)",
      "\u001b[0;32m<ipython-input-1-1c41bfc64330>\u001b[0m in \u001b[0;36m<module>\u001b[0;34m()\u001b[0m\n\u001b[0;32m----> 1\u001b[0;31m \u001b[0mseason2016\u001b[0m\u001b[0;34m.\u001b[0m\u001b[0mteams\u001b[0m\u001b[0;34m\u001b[0m\u001b[0m\n\u001b[0m",
      "\u001b[0;31mNameError\u001b[0m: name 'season2016' is not defined"
     ]
    }
   ],
   "source": [
    "season2016.teams"
   ]
  },
  {
   "cell_type": "code",
   "execution_count": 24,
   "metadata": {
    "collapsed": false,
    "scrolled": false
   },
   "outputs": [
    {
     "name": "stdout",
     "output_type": "stream",
     "text": [
      "{'LastLoadMatchday': [2016, 11],\n",
      " 'teams2014': ['Bayern München',\n",
      "               'VfL Wolfsburg',\n",
      "               'TSG 1899 Hoffenheim',\n",
      "               'FC Augsburg',\n",
      "               'Hannover 96',\n",
      "               'FC Schalke 04',\n",
      "               'Hertha BSC',\n",
      "               'Werder Bremen',\n",
      "               'Eintracht Frankfurt',\n",
      "               'SC Freiburg',\n",
      "               '1. FC Köln',\n",
      "               'Hamburger SV',\n",
      "               'Borussia Dortmund',\n",
      "               'Bayer 04 Leverkusen',\n",
      "               'SC Paderborn 07',\n",
      "               '1. FSV Mainz 05',\n",
      "               'Borussia Mönchengladbach',\n",
      "               'VfB Stuttgart']}\n"
     ]
    },
    {
     "data": {
      "text/plain": [
       "dict_keys(['home', 'away'])"
      ]
     },
     "execution_count": 24,
     "metadata": {},
     "output_type": "execute_result"
    }
   ],
   "source": [
    "Season = season(2014)\n",
    "Season.scores.keys()"
   ]
  },
  {
   "cell_type": "code",
   "execution_count": 26,
   "metadata": {
    "collapsed": false
   },
   "outputs": [
    {
     "name": "stdout",
     "output_type": "stream",
     "text": [
      "Bayern München 1 : 0 VfL Wolfsburg\n",
      "TSG 1899 Hoffenheim 2 : 0 FC Augsburg\n",
      "Hannover 96 0 : 0 FC Schalke 04\n",
      "Hertha BSC 1 : 0 Werder Bremen\n",
      "Eintracht Frankfurt 1 : 0 SC Freiburg\n",
      "1. FC Köln 0 : 0 Hamburger SV\n",
      "Borussia Dortmund 0 : 1 Bayer 04 Leverkusen\n",
      "SC Paderborn 07 1 : 1 1. FSV Mainz 05\n",
      "Borussia Mönchengladbach 0 : 0 VfB Stuttgart\n"
     ]
    }
   ],
   "source": [
    "Season.printResults(2014,1)"
   ]
  },
  {
   "cell_type": "code",
   "execution_count": 101,
   "metadata": {
    "collapsed": false
   },
   "outputs": [
    {
     "name": "stdout",
     "output_type": "stream",
     "text": [
      "(1,) (2,) (3,)\n"
     ]
    }
   ],
   "source": [
    "a = zip([1,2,3])\n",
    "print(*a)"
   ]
  },
  {
   "cell_type": "code",
   "execution_count": null,
   "metadata": {
    "collapsed": true
   },
   "outputs": [],
   "source": []
  }
 ],
 "metadata": {
  "anaconda-cloud": {},
  "kernelspec": {
   "display_name": "Python [default]",
   "language": "python",
   "name": "python3"
  },
  "language_info": {
   "codemirror_mode": {
    "name": "ipython",
    "version": 3
   },
   "file_extension": ".py",
   "mimetype": "text/x-python",
   "name": "python",
   "nbconvert_exporter": "python",
   "pygments_lexer": "ipython3",
   "version": "3.5.2"
  }
 },
 "nbformat": 4,
 "nbformat_minor": 1
}
