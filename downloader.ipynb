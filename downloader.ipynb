{
 "cells": [
  {
   "cell_type": "markdown",
   "metadata": {},
   "source": [
    "# First Test"
   ]
  },
  {
   "cell_type": "code",
   "execution_count": 1,
   "metadata": {
    "collapsed": false,
    "scrolled": false
   },
   "outputs": [],
   "source": [
    "from urllib.request import urlopen, Request\n",
    "import json\n",
    "from pandas.io.json import json_normalize\n",
    "import os\n",
    "import datetime\n",
    "\n",
    "\n",
    "class downloader():\n",
    "    def __init__(self):\n",
    "        self.firstEntryYear = 2013\n",
    "        self.firstEntryDay = 1\n",
    "        self.lastLoadMatchday = None\n",
    "        \n",
    "    def beginHistory(self):\n",
    "        '''Beginn der Datenbank'''\n",
    "        return [self.firstEntryYear, self.firstEntryDay]\n",
    "    \n",
    "    def writeInfo(self, info=None):\n",
    "        '''Save information as a Dict in a .txt file'''\n",
    "        with open('info.txt', 'w') as outfile:  \n",
    "            json.dump(info, outfile)\n",
    "    \n",
    "    def loadInfo(self):\n",
    "        '''load info.txt file, if not exist return none'''\n",
    "        if(os.path.isfile('./info.txt')==True):\n",
    "            with open('info.txt') as json_file:  \n",
    "                data = json.load(json_file)\n",
    "            return data\n",
    "        else:\n",
    "            return {'createdOn': 2017}\n",
    "    \n",
    "    def updateInfo(self, newInfo):\n",
    "        '''load the information from the file and add/replace new one.'''\n",
    "        info = self.loadInfo()\n",
    "        for x in newInfo.keys():\n",
    "            info[x] = newInfo[x]\n",
    "        self.writeInfo(info)\n",
    "        \n",
    "    def readLastLoadMatchday(self):\n",
    "        '''read the last load matchday in the info.txt file, if not exist\n",
    "        set the actuell matchday to the first one.'''\n",
    "        info = self.loadInfo()\n",
    "        if('lastLoadMatchday' in info):\n",
    "            self.lastLoadMatchday = info['lastLoadMatchday']\n",
    "        else:\n",
    "            self.lastLoadMatchday = self.beginHistory()\n",
    "            self.updateInfo({'lastLoadMatchday': self.lastLoadMatchday})\n",
    "        return self.lastLoadMatchday\n",
    "    \n",
    "    def saveLastLoadMatchday(self):\n",
    "        '''update the last load matchday from info.txt file'''\n",
    "        self.updateInfo({'lastLoadMatchday': self.lastLoadMatchday})\n",
    "    \n",
    "    def downloadMatchDay(self, year, day):\n",
    "        ''' Download the Json file and save it in the season folder.\n",
    "        \n",
    "        First of all it looks if a folder with the same name already exist. \n",
    "        Following it creates an folder if it doesn't. Afterwords it download\n",
    "        the JSOON-file and save the download.\n",
    "        \n",
    "        Parameters : \n",
    "        year = int or stirng\n",
    "            The seasonyear of the observable event.\n",
    "        day = int or string\n",
    "            The matchday of the observable event.\n",
    "        '''\n",
    "        if not os.path.exists(str(year)):\n",
    "            os.makedirs(str(year))\n",
    "        season_day = (str(year) + '/' + str(day))\n",
    "        request = Request('https://www.openligadb.de/api/getmatchdata/bl1/'+season_day)\n",
    "        response = json.loads(urlopen(request).read().decode('utf-8'))\n",
    "        # Save the Download in File season_day.json\n",
    "        with open(season_day + '.json', 'w') as f:\n",
    "             json.dump(response, f)\n",
    "        \n",
    "    def loadMatchDay(self, year, day):    \n",
    "        ''' Load the JSON file from your local disk.\n",
    "        \n",
    "        Parameters : \n",
    "        year = int or stirng\n",
    "            The seasonyear of the observable event.\n",
    "        day = int or string\n",
    "            The matchday of the observable event.\n",
    "        Returns:\n",
    "            The data form the file.\n",
    "        '''\n",
    "        season_day = (str(year) + '/' + str(day))\n",
    "        with open(season_day+'.json', 'r') as f:#(str(year)+'/'+ str(day) + \n",
    "            return json.load(f)\n",
    "    \n",
    "    def loadRek(self):\n",
    "        if self.loadMatchDay(self.lastLoadMatchday[0], self.lastLoadMatchday[1])[8]['MatchIsFinished']==0:\n",
    "            print('Finished')\n",
    "            return 1\n",
    "        else:\n",
    "            if (self.lastLoadMatchday[1]>=34):\n",
    "                self.lastLoadMatchday[1] = 1\n",
    "                self.lastLoadMatchday[0] += 1\n",
    "                print('Now loading season', self.lastLoadMatchday[0])\n",
    "            else:\n",
    "                self.lastLoadMatchday[1] +=1\n",
    "            print('loading ...')\n",
    "            self.downloadMatchDay(self.lastLoadMatchday[0], self.lastLoadMatchday[1])\n",
    "            self.saveLastLoadMatchday()\n",
    "            self.loadRek()\n",
    "            return 0\n",
    "        \n",
    "    def getUpdate(self):\n",
    "        ''' Load all data to the newest one.\n",
    "            First of all, it looks if there is a file with the \n",
    "            information from the last load Matchday. If doesn't\n",
    "            it load the files from the first day it knew.\n",
    "        '''\n",
    "        self.readLastLoadMatchday()\n",
    "        self.downloadMatchDay(self.lastLoadMatchday[0], self.lastLoadMatchday[1])\n",
    "        self.loadRek()"
   ]
  },
  {
   "cell_type": "code",
   "execution_count": 2,
   "metadata": {
    "collapsed": false,
    "scrolled": true
   },
   "outputs": [
    {
     "name": "stdout",
     "output_type": "stream",
     "text": [
      "Finished\n"
     ]
    }
   ],
   "source": [
    "downloader().getUpdate()"
   ]
  },
  {
   "cell_type": "code",
   "execution_count": null,
   "metadata": {
    "collapsed": true
   },
   "outputs": [],
   "source": []
  }
 ],
 "metadata": {
  "anaconda-cloud": {},
  "kernelspec": {
   "display_name": "Python [default]",
   "language": "python",
   "name": "python3"
  },
  "language_info": {
   "codemirror_mode": {
    "name": "ipython",
    "version": 3
   },
   "file_extension": ".py",
   "mimetype": "text/x-python",
   "name": "python",
   "nbconvert_exporter": "python",
   "pygments_lexer": "ipython3",
   "version": "3.5.2"
  }
 },
 "nbformat": 4,
 "nbformat_minor": 1
}
