{
 "cells": [
  {
   "cell_type": "markdown",
   "metadata": {},
   "source": [
    "# First Test"
   ]
  },
  {
   "cell_type": "code",
   "execution_count": 171,
   "metadata": {
    "collapsed": false,
    "scrolled": false
   },
   "outputs": [],
   "source": [
    "from urllib.request import urlopen, Request\n",
    "import json\n",
    "from pandas.io.json import json_normalize\n",
    "from pprint import pprint\n",
    "from datetime import date\n",
    "import os\n",
    "\n",
    "class team:\n",
    "    def __init__(self):\n",
    "        self.teamName = [None]\n",
    "        self.teamId = [None]\n",
    "        self.Stadium = [None]\n",
    "\n",
    "class leauge(team):\n",
    "    def __init__(self):\n",
    "        self.lastUpdate = date.today()\n",
    "        self.nextMatchday = [None]\n",
    "        self.matchNumbers = [None]\n",
    "    \n",
    "    def downloadMatchDay(self, year, day):\n",
    "        ''' Download the Json file and save it in the season folder.\n",
    "        \n",
    "        First of all it looks if a folder with the same name already exist. \n",
    "        Following it creates an folder if it doesn't. Afterwords it download\n",
    "        the JSOON-file and save the download.\n",
    "        \n",
    "        Parameters : \n",
    "        year = int or stirng\n",
    "            The seasonyear of the observable event.\n",
    "        day = int or string\n",
    "            The matchday of the observable event.\n",
    "        '''\n",
    "        if not os.path.exists(str(year)):\n",
    "            os.makedirs(str(year))\n",
    "        season_day = (str(year) + '/' + str(day))\n",
    "        request = Request('https://www.openligadb.de/api/getmatchdata/bl1/'+season_day)\n",
    "        response = json.loads(urlopen(request).read().decode('utf-8'))\n",
    "        # Save the Download in File season_day.json\n",
    "        with open(season_day + '.json', 'w') as f:\n",
    "             json.dump(response, f)\n",
    "        \n",
    "    def loadMatchDay(self, year, day):    \n",
    "        ''' Load the JSON file from your local disk.\n",
    "        \n",
    "        Parameters : \n",
    "        year = int or stirng\n",
    "            The seasonyear of the observable event.\n",
    "        day = int or string\n",
    "            The matchday of the observable event.\n",
    "        Returns:\n",
    "            The data form the file.\n",
    "        '''\n",
    "        season_day = (str(year) + '/' + str(day))\n",
    "        with open(season_day+'.json', 'r') as f:#(str(year)+'/'+ str(day) + \n",
    "            return json.load(f)\n",
    "    \n",
    "    def printResults(self, year, day):\n",
    "        Data = self.loadMatchDay(year, day)\n",
    "        for x in range(len(Data)):\n",
    "            print(Data[x]['Team1']['TeamName'], Data[x]['MatchResults'][1]['PointsTeam1'], ':'\n",
    "                  , Data[x]['MatchResults'][1]['PointsTeam2'], Data[x]['Team2']['TeamName'])\n",
    "        \n",
    "#season_day = '2016/30'\n",
    "#request = Request('https://www.openligadb.de/api/getmatchdata/bl1/'+season_day)\n",
    "#response = urlopen(request).read().decode('utf-8')\n",
    "#data = json.loads(response)\n",
    "#data[0]['Goals'][1]"
   ]
  },
  {
   "cell_type": "code",
   "execution_count": 172,
   "metadata": {
    "collapsed": false
   },
   "outputs": [
    {
     "name": "stdout",
     "output_type": "stream",
     "text": [
      "1. FC Köln 1 : 1 TSG 1899 Hoffenheim\n",
      "Eintracht Frankfurt 3 : 1 FC Augsburg\n",
      "FC Ingolstadt 04 2 : 4 Werder Bremen\n",
      "Hamburger SV 1 : 2 SV Darmstadt 98\n",
      "Bayern München 2 : 2 1. FSV Mainz 05\n",
      "Hertha BSC 1 : 0 VfL Wolfsburg\n",
      "Borussia Mönchengladbach 2 : 3 Borussia Dortmund\n",
      "SC Freiburg 2 : 1 Bayer 04 Leverkusen\n",
      "FC Schalke 04 1 : 1 RB Leipzig\n"
     ]
    }
   ],
   "source": [
    "Bundesliga = leauge()\n",
    "Bundesliga.downloadMatchDay(2016,30)\n",
    "Data = Bundesliga.loadMatchDay(2016,30)\n",
    "Bundesliga.printResults(2016,30)"
   ]
  },
  {
   "cell_type": "code",
   "execution_count": 160,
   "metadata": {
    "collapsed": false
   },
   "outputs": [
    {
     "data": {
      "text/plain": [
       "True"
      ]
     },
     "execution_count": 160,
     "metadata": {},
     "output_type": "execute_result"
    }
   ],
   "source": [
    "Bundesliga.lastUpdate > date(2014 ,7 ,8)"
   ]
  },
  {
   "cell_type": "code",
   "execution_count": 157,
   "metadata": {
    "collapsed": false
   },
   "outputs": [
    {
     "data": {
      "text/plain": [
       "'2017/'"
      ]
     },
     "execution_count": 157,
     "metadata": {},
     "output_type": "execute_result"
    }
   ],
   "source": [
    "str(2017)+'/'"
   ]
  },
  {
   "cell_type": "code",
   "execution_count": null,
   "metadata": {
    "collapsed": true
   },
   "outputs": [],
   "source": []
  }
 ],
 "metadata": {
  "anaconda-cloud": {},
  "kernelspec": {
   "display_name": "Python [default]",
   "language": "python",
   "name": "python3"
  }
 },
 "nbformat": 4,
 "nbformat_minor": 1
}
