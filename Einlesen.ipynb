{
 "cells": [
  {
   "cell_type": "markdown",
   "metadata": {},
   "source": [
    "# First Test"
   ]
  },
  {
   "cell_type": "code",
   "execution_count": 54,
   "metadata": {
    "collapsed": false
   },
   "outputs": [],
   "source": [
    "from urllib.request import urlopen, Request\n",
    "import json\n",
    "from pandas.io.json import json_normalize\n",
    "season_day = '2016/30'\n",
    "request = Request('https://www.openligadb.de/api/getmatchdata/bl1/'+season_day)\n",
    "response = urlopen(request)\n",
    "elevations = response.read()\n",
    "data = json.loads(elevations.decode('utf-8'))"
   ]
  },
  {
   "cell_type": "code",
   "execution_count": 64,
   "metadata": {
    "collapsed": false,
    "scrolled": true
   },
   "outputs": [
    {
     "name": "stdout",
     "output_type": "stream",
     "text": [
      "Goals: \n",
      "         Comment  GoalGetterID        GoalGetterName  GoalID IsOvertime  \\\n",
      "0          None             0                         58961      False   \n",
      "1          None         16106  Leonardo Bittencourt   58962      False   \n",
      "2          None         16137        Kerem Demirbay   58963       True   \n",
      "3          None         16056    Jeffrey Gouweleeuw   58930      False   \n",
      "4  Marco Fabián         16081          Marco Fabian   58969      False   \n",
      "\n",
      "  IsOwnGoal IsPenalty  MatchMinute  ScoreTeam1  ScoreTeam2  \n",
      "0     False     False          NaN           0           0  \n",
      "1     False     False         58.0           1           0  \n",
      "2     False     False         94.0           1           1  \n",
      "3     False     False          9.0           0           1  \n",
      "4     False     False         78.0           1           1  \n",
      "Results: \n",
      "    PointsTeam1  PointsTeam2        ResultDescription  ResultID  \\\n",
      "0            0            0    Ergebnis zur Halbzeit     74309   \n",
      "1            1            1  Ergebnis nach Spielende     74310   \n",
      "2            0            1    Ergebnis zur Halbzeit     74321   \n",
      "3            3            1  Ergebnis nach Spielende     74326   \n",
      "4            1            1    Ergebnis zur Halbzeit     74322   \n",
      "\n",
      "         ResultName  ResultOrderID  ResultTypeID  \n",
      "0  Halbzeitergebnis              1             1  \n",
      "1       Endergebnis              2             2  \n",
      "2  Halbzeitergebnis              1             1  \n",
      "3       Endergebnis              2             2  \n",
      "4  Halbzeitergebnis              1             1  \n",
      "Info: \n",
      "    Group.GroupOrderID       LastUpdateDateTime  LeagueId  \\\n",
      "0                  30   2017-04-22T16:29:41.13      3005   \n",
      "1                  30  2017-04-22T17:25:11.527      3005   \n",
      "2                  30  2017-04-22T17:25:19.287      3005   \n",
      "3                  30  2017-04-22T17:27:28.547      3005   \n",
      "4                  30   2017-04-22T17:25:27.03      3005   \n",
      "\n",
      "  Location.LocationCity  Location.LocationID        MatchDateTime  MatchID  \\\n",
      "0                  Köln                  509  2017-04-21T20:30:00    39912   \n",
      "1             Frankfurt                  183  2017-04-22T15:30:00    39909   \n",
      "2            Ingolstadt                  597  2017-04-22T15:30:00    39910   \n",
      "3               Hamburg                 1030  2017-04-22T15:30:00    39911   \n",
      "4               München                   34  2017-04-22T15:30:00    39916   \n",
      "\n",
      "  MatchIsFinished  NumberOfViewers  Team1.TeamId  Team2.TeamId  \n",
      "0            True            48000            65           123  \n",
      "1            True            50000            91            95  \n",
      "2            True            15200           171           134  \n",
      "3            True            54000           100           118  \n",
      "4            True            75000            40            81  \n"
     ]
    }
   ],
   "source": [
    "results = json_normalize(data, 'MatchResults')\n",
    "Goals = json_normalize(data, 'Goals')\n",
    "info = json_normalize(data, record_prefix=True)\n",
    "info = info.drop(['Goals', 'Group.GroupID', 'Group.GroupName', 'Location.LocationStadium', 'MatchDateTimeUTC', 'TimeZoneID', 'Team1.TeamIconUrl', 'Team1.ShortName','Team1.TeamName','Team2.TeamIconUrl', 'Team2.ShortName','Team2.TeamName', 'MatchResults'], axis=1)\n",
    "print('Goals: \\n', Goals.head())\n",
    "print('Results: \\n', results.head())\n",
    "print('Info: \\n', info.head())"
   ]
  },
  {
   "cell_type": "code",
   "execution_count": 97,
   "metadata": {
    "collapsed": false
   },
   "outputs": [
    {
     "data": {
      "text/plain": [
       "PointsTeam2\n",
       "0    0.0\n",
       "1    NaN\n",
       "1    NaN\n",
       "0    0.0\n",
       "2    0.0\n",
       "0    0.0\n",
       "1    NaN\n",
       "0    0.0\n",
       "1    NaN\n",
       "Name: PointsTeam1, dtype: float64"
      ]
     },
     "execution_count": 97,
     "metadata": {},
     "output_type": "execute_result"
    }
   ],
   "source": [
    "class matchday:\n",
    "    def __init__(self, data):\n",
    "        self.halfTimeScores = data.PointsTeam2[np.linspace(0,16,9)]\n",
    "        self.endTimeScores = data.PointsTeam2[np.linspace(1,17,9)]\n",
    "match30 = matchday(results)\n",
    "match30.halfTimeScores"
   ]
  },
  {
   "cell_type": "code",
   "execution_count": null,
   "metadata": {
    "collapsed": true
   },
   "outputs": [],
   "source": []
  }
 ],
 "metadata": {
  "anaconda-cloud": {},
  "kernelspec": {
   "display_name": "Python [default]",
   "language": "python",
   "name": "python3"
  },
  "language_info": {
   "codemirror_mode": {
    "name": "ipython",
    "version": 3
   },
   "file_extension": ".py",
   "mimetype": "text/x-python",
   "name": "python",
   "nbconvert_exporter": "python",
   "pygments_lexer": "ipython3",
   "version": "3.5.2"
  }
 },
 "nbformat": 4,
 "nbformat_minor": 1
}
