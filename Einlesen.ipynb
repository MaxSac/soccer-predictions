{
 "cells": [
  {
   "cell_type": "markdown",
   "metadata": {},
   "source": [
    "# First Test"
   ]
  },
  {
   "cell_type": "code",
   "execution_count": 26,
   "metadata": {
    "collapsed": false
   },
   "outputs": [],
   "source": [
    "import urllib3\n",
    "import json\n",
    "from pandas.io.json import json_normalize"
   ]
  },
  {
   "cell_type": "code",
   "execution_count": 83,
   "metadata": {
    "collapsed": false
   },
   "outputs": [
    {
     "name": "stdout",
     "output_type": "stream",
     "text": [
      "                                               Goals  Group.GroupOrderID  \\\n",
      "0  [{'MatchMinute': None, 'Comment': None, 'GoalI...                  30   \n",
      "1  [{'MatchMinute': 9, 'Comment': None, 'GoalID':...                  30   \n",
      "2  [{'MatchMinute': 32, 'Comment': None, 'GoalID'...                  30   \n",
      "3  [{'MatchMinute': 51, 'Comment': 'Aytac Sulu', ...                  30   \n",
      "4  [{'MatchMinute': 3, 'Comment': None, 'GoalID':...                  30   \n",
      "5  [{'MatchMinute': 59, 'Comment': None, 'GoalID'...                  30   \n",
      "6  [{'MatchMinute': 10, 'Comment': None, 'GoalID'...                  30   \n",
      "7                                                 []                  30   \n",
      "8                                                 []                  30   \n",
      "\n",
      "        LastUpdateDateTime  Location.LocationID        MatchDateTime  \\\n",
      "0   2017-04-22T16:29:41.13                509.0  2017-04-21T20:30:00   \n",
      "1  2017-04-22T17:25:11.527                183.0  2017-04-22T15:30:00   \n",
      "2  2017-04-22T17:25:19.287                597.0  2017-04-22T15:30:00   \n",
      "3  2017-04-22T17:27:28.547               1030.0  2017-04-22T15:30:00   \n",
      "4   2017-04-22T17:25:27.03                 34.0  2017-04-22T15:30:00   \n",
      "5  2017-04-22T17:25:33.723                 22.0  2017-04-22T15:30:00   \n",
      "6   2017-04-22T20:21:08.93                444.0  2017-04-22T18:30:00   \n",
      "7  2017-03-17T18:11:31.263                  NaN  2017-04-23T15:30:00   \n",
      "8  2017-03-17T18:11:44.957                  NaN  2017-04-23T17:30:00   \n",
      "\n",
      "       MatchDateTimeUTC  MatchID  \\\n",
      "0  2017-04-21T18:30:00Z    39912   \n",
      "1  2017-04-22T13:30:00Z    39909   \n",
      "2  2017-04-22T13:30:00Z    39910   \n",
      "3  2017-04-22T13:30:00Z    39911   \n",
      "4  2017-04-22T13:30:00Z    39916   \n",
      "5  2017-04-22T13:30:00Z    39917   \n",
      "6  2017-04-22T16:30:00Z    39913   \n",
      "7  2017-04-23T13:30:00Z    39915   \n",
      "8  2017-04-23T15:30:00Z    39914   \n",
      "\n",
      "                                        MatchResults  NumberOfViewers  \\\n",
      "0  [{'ResultOrderID': 1, 'ResultTypeID': 1, 'Poin...          48000.0   \n",
      "1  [{'ResultOrderID': 1, 'ResultTypeID': 1, 'Poin...          50000.0   \n",
      "2  [{'ResultOrderID': 1, 'ResultTypeID': 1, 'Poin...          15200.0   \n",
      "3  [{'ResultOrderID': 1, 'ResultTypeID': 1, 'Poin...          54000.0   \n",
      "4  [{'ResultOrderID': 1, 'ResultTypeID': 1, 'Poin...          75000.0   \n",
      "5  [{'ResultOrderID': 1, 'ResultTypeID': 1, 'Poin...          40000.0   \n",
      "6  [{'ResultOrderID': 1, 'ResultTypeID': 1, 'Poin...          54014.0   \n",
      "7                                                 []              NaN   \n",
      "8                                                 []              NaN   \n",
      "\n",
      "   Team1.TeamId  Team2.TeamId  \n",
      "0            65           123  \n",
      "1            91            95  \n",
      "2           171           134  \n",
      "3           100           118  \n",
      "4            40            81  \n",
      "5            54           131  \n",
      "6            87             7  \n",
      "7           112             6  \n",
      "8             9          1635  \n"
     ]
    },
    {
     "name": "stderr",
     "output_type": "stream",
     "text": [
      "/home/maximilian/.local/anaconda3/lib/python3.5/site-packages/urllib3/connectionpool.py:852: InsecureRequestWarning: Unverified HTTPS request is being made. Adding certificate verification is strongly advised. See: https://urllib3.readthedocs.io/en/latest/advanced-usage.html#ssl-warnings\n",
      "  InsecureRequestWarning)\n"
     ]
    }
   ],
   "source": [
    "http = urllib3.PoolManager()\n",
    "r = http.request('GET', 'https://www.openligadb.de/api/getmatchdata/bl1/2016/30')\n",
    "data = json.loads(r.data.decode('utf-8'))\n",
    "pd_data = json_normalize(data)\n",
    "def clean_data(data):\n",
    "    return data.drop(['TimeZoneID','Team1.TeamIconUrl','Team2.TeamIconUrl', 'LeagueId', 'Team1.ShortName','Team2.ShortName', 'Team1.TeamName','Team2.TeamName', 'Location.LocationStadium', 'Location', 'Location.LocationCity', 'MatchIsFinished', 'Group.GroupName', 'Group.GroupID'], axis=1)\n",
    "week30 = clean_data(pd_data)\n",
    "print(week30)"
   ]
  },
  {
   "cell_type": "code",
   "execution_count": null,
   "metadata": {
    "collapsed": true
   },
   "outputs": [],
   "source": []
  }
 ],
 "metadata": {
  "anaconda-cloud": {},
  "kernelspec": {
   "display_name": "Python [default]",
   "language": "python",
   "name": "python3"
  },
  "language_info": {
   "codemirror_mode": {
    "name": "ipython",
    "version": 3
   },
   "file_extension": ".py",
   "mimetype": "text/x-python",
   "name": "python",
   "nbconvert_exporter": "python",
   "pygments_lexer": "ipython3",
   "version": "3.5.2"
  }
 },
 "nbformat": 4,
 "nbformat_minor": 1
}
