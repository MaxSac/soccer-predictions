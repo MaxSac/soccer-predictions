{
 "cells": [
  {
   "cell_type": "markdown",
   "metadata": {},
   "source": [
    "# First Test"
   ]
  },
  {
   "cell_type": "code",
   "execution_count": 1,
   "metadata": {
    "collapsed": false,
    "scrolled": false
   },
   "outputs": [],
   "source": [
    "from urllib.request import urlopen, Request\n",
    "import json\n",
    "from pandas.io.json import json_normalize\n",
    "from pprint import pprint\n",
    "from datetime import date\n",
    "import os\n",
    "\n",
    "\n",
    "\n",
    "class leauge():\n",
    "    def __init__(self):\n",
    "        self.lastLoadMatchday = None\n",
    "    \n",
    "    def saveLastLoadMatchday(self):\n",
    "        ''' Save the lastLoadMatchday'''\n",
    "        if(self.lastLoadMatchday[1] <=1):\n",
    "            lastLoadMatchday = [self.lastLoadMatchday[0]-1, 34]\n",
    "        else:\n",
    "            lastLoadMatchday = [self.lastLoadMatchday[0],self.lastLoadMatchday[1]-1]\n",
    "        with open('info.json', 'w') as file:\n",
    "            file.write(json.dumps({'LastLoadMatchday': lastLoadMatchday}))\n",
    "            \n",
    "    def readLastLoadMatchday(self):\n",
    "        '''Read the last lastLoadMatchday '''\n",
    "        with open('info.json') as file:\n",
    "            dataLoaded = json.load(file)\n",
    "        return dataLoaded['LastLoadMatchday']\n",
    "    \n",
    "    def downloadMatchDay(self, year, day):\n",
    "        ''' Download the Json file and save it in the season folder.\n",
    "        \n",
    "        First of all it looks if a folder with the same name already exist. \n",
    "        Following it creates an folder if it doesn't. Afterwords it download\n",
    "        the JSOON-file and save the download.\n",
    "        \n",
    "        Parameters : \n",
    "        year = int or stirng\n",
    "            The seasonyear of the observable event.\n",
    "        day = int or string\n",
    "            The matchday of the observable event.\n",
    "        '''\n",
    "        if not os.path.exists(str(year)):\n",
    "            os.makedirs(str(year))\n",
    "        season_day = (str(year) + '/' + str(day))\n",
    "        request = Request('https://www.openligadb.de/api/getmatchdata/bl1/'+season_day)\n",
    "        response = json.loads(urlopen(request).read().decode('utf-8'))\n",
    "        # Save the Download in File season_day.json\n",
    "        with open(season_day + '.json', 'w') as f:\n",
    "             json.dump(response, f)\n",
    "        \n",
    "    def loadMatchDay(self, year, day):    \n",
    "        ''' Load the JSON file from your local disk.\n",
    "        \n",
    "        Parameters : \n",
    "        year = int or stirng\n",
    "            The seasonyear of the observable event.\n",
    "        day = int or string\n",
    "            The matchday of the observable event.\n",
    "        Returns:\n",
    "            The data form the file.\n",
    "        '''\n",
    "        season_day = (str(year) + '/' + str(day))\n",
    "        with open(season_day+'.json', 'r') as f:#(str(year)+'/'+ str(day) + \n",
    "            return json.load(f)\n",
    "    \n",
    "    def loadRek(self):\n",
    "        if self.loadMatchDay(self.lastLoadMatchday[0], self.lastLoadMatchday[1])[8]['MatchIsFinished']==0:\n",
    "            print('Finished')\n",
    "            return 1\n",
    "        else:\n",
    "            if (self.lastLoadMatchday[1]>=34):\n",
    "                self.lastLoadMatchday[1] = 1\n",
    "                self.lastLoadMatchday[0] += 1\n",
    "                print('Now loading season', self.lastLoadMatchday[0])\n",
    "            else:\n",
    "                self.lastLoadMatchday[1] +=1\n",
    "            print('loading ...')\n",
    "            self.downloadMatchDay(self.lastLoadMatchday[0], self.lastLoadMatchday[1])\n",
    "            self.saveLastLoadMatchday()\n",
    "            self.loadRek()\n",
    "            return 0\n",
    "        \n",
    "    def getUpdate(self):\n",
    "        ''' Load all data to the newest one.\n",
    "            First of all, it looks if there is a file with the \n",
    "            information from the last load Matchday. If doesn't\n",
    "            it load the files from the first day it knew.\n",
    "        '''\n",
    "        if(self.lastLoadMatchday == None):\n",
    "            if(os.path.isfile('info.json') == True):\n",
    "                self.lastLoadMatchday = self.readLastLoadMatchday()\n",
    "            else:\n",
    "                firstEntryYear = 2013\n",
    "                firstEntryDay = 1\n",
    "                self.lastLoadMatchday = [firstEntryYear, firstEntryDay]\n",
    "                pprint('Download all scores till season: ' + str(firstEntryYear) + '/' + str(firstEntryYear+1))\n",
    "        \n",
    "        self.downloadMatchDay(self.lastLoadMatchday[0], self.lastLoadMatchday[1])\n",
    "        self.loadRek()\n",
    "        print(self.lastLoadMatchday)\n",
    "    \n",
    "    def printResults(self, year, day):\n",
    "        Data = self.loadMatchDay(year, day)\n",
    "        for x in range(len(Data)):\n",
    "            print(Data[x]['Team1']['TeamName'], Data[x]['MatchResults'][1]['PointsTeam1'], ':'\n",
    "                  , Data[x]['MatchResults'][1]['PointsTeam2'], Data[x]['Team2']['TeamName'])"
   ]
  },
  {
   "cell_type": "code",
   "execution_count": 2,
   "metadata": {
    "collapsed": true
   },
   "outputs": [],
   "source": [
    "Bundesliga = leauge()"
   ]
  },
  {
   "cell_type": "code",
   "execution_count": 4,
   "metadata": {
    "collapsed": false
   },
   "outputs": [
    {
     "name": "stdout",
     "output_type": "stream",
     "text": [
      "Bayern München 1 : 0 VfL Wolfsburg\n",
      "TSG 1899 Hoffenheim 2 : 0 FC Augsburg\n",
      "Hannover 96 0 : 0 FC Schalke 04\n",
      "Hertha BSC 1 : 0 Werder Bremen\n",
      "Eintracht Frankfurt 1 : 0 SC Freiburg\n",
      "1. FC Köln 0 : 0 Hamburger SV\n",
      "Borussia Dortmund 0 : 1 Bayer 04 Leverkusen\n",
      "SC Paderborn 07 1 : 1 1. FSV Mainz 05\n",
      "Borussia Mönchengladbach 0 : 0 VfB Stuttgart\n"
     ]
    }
   ],
   "source": [
    "Bundesliga.printResults(2014,1)"
   ]
  },
  {
   "cell_type": "code",
   "execution_count": 7,
   "metadata": {
    "collapsed": false
   },
   "outputs": [
    {
     "name": "stdout",
     "output_type": "stream",
     "text": [
      "BVB\n",
      "FCB\n"
     ]
    }
   ],
   "source": [
    "print('BVB'+'\\n'+'FCB')"
   ]
  },
  {
   "cell_type": "code",
   "execution_count": 8,
   "metadata": {
    "collapsed": true
   },
   "outputs": [],
   "source": [
    "teams = np.array(['BVB','So4'])"
   ]
  },
  {
   "cell_type": "code",
   "execution_count": 22,
   "metadata": {
    "collapsed": true
   },
   "outputs": [],
   "source": [
    "y = []\n",
    "for x in teams:\n",
    "    y += x+ '\\n'"
   ]
  },
  {
   "cell_type": "code",
   "execution_count": 41,
   "metadata": {
    "collapsed": false
   },
   "outputs": [
    {
     "ename": "TypeError",
     "evalue": "decoding str is not supported",
     "output_type": "error",
     "traceback": [
      "\u001b[0;31m---------------------------------------------------------------------------\u001b[0m",
      "\u001b[0;31mTypeError\u001b[0m                                 Traceback (most recent call last)",
      "\u001b[0;32m<ipython-input-41-fee621504599>\u001b[0m in \u001b[0;36m<module>\u001b[0;34m()\u001b[0m\n\u001b[0;32m----> 1\u001b[0;31m \u001b[0mnp\u001b[0m\u001b[0;34m.\u001b[0m\u001b[0mstr\u001b[0m\u001b[0;34m(\u001b[0m\u001b[0;34m*\u001b[0m\u001b[0mteams\u001b[0m\u001b[0;34m)\u001b[0m\u001b[0;34m\u001b[0m\u001b[0m\n\u001b[0m",
      "\u001b[0;31mTypeError\u001b[0m: decoding str is not supported"
     ]
    }
   ],
   "source": [
    "np.str(*teams)"
   ]
  },
  {
   "cell_type": "code",
   "execution_count": 39,
   "metadata": {
    "collapsed": false
   },
   "outputs": [
    {
     "name": "stdout",
     "output_type": "stream",
     "text": [
      "BVB So4\n"
     ]
    }
   ],
   "source": [
    "print(*teams)"
   ]
  },
  {
   "cell_type": "code",
   "execution_count": null,
   "metadata": {
    "collapsed": true
   },
   "outputs": [],
   "source": []
  }
 ],
 "metadata": {
  "anaconda-cloud": {},
  "kernelspec": {
   "display_name": "Python [default]",
   "language": "python",
   "name": "python3"
  },
  "language_info": {
   "codemirror_mode": {
    "name": "ipython",
    "version": 3
   },
   "file_extension": ".py",
   "mimetype": "text/x-python",
   "name": "python",
   "nbconvert_exporter": "python",
   "pygments_lexer": "ipython3",
   "version": "3.5.2"
  }
 },
 "nbformat": 4,
 "nbformat_minor": 1
}
