{
 "cells": [
  {
   "cell_type": "markdown",
   "metadata": {},
   "source": [
    "# First Test"
   ]
  },
  {
   "cell_type": "code",
   "execution_count": 1,
   "metadata": {
    "collapsed": false,
    "scrolled": false
   },
   "outputs": [
    {
     "ename": "NameError",
     "evalue": "name 'team' is not defined",
     "output_type": "error",
     "traceback": [
      "\u001b[0;31m---------------------------------------------------------------------------\u001b[0m",
      "\u001b[0;31mNameError\u001b[0m                                 Traceback (most recent call last)",
      "\u001b[0;32m<ipython-input-1-ba225c355ccc>\u001b[0m in \u001b[0;36m<module>\u001b[0;34m()\u001b[0m\n\u001b[1;32m      8\u001b[0m \u001b[0;34m\u001b[0m\u001b[0m\n\u001b[1;32m      9\u001b[0m \u001b[0;34m\u001b[0m\u001b[0m\n\u001b[0;32m---> 10\u001b[0;31m \u001b[0;32mclass\u001b[0m \u001b[0mleauge\u001b[0m\u001b[0;34m(\u001b[0m\u001b[0mteam\u001b[0m\u001b[0;34m,\u001b[0m\u001b[0;34m)\u001b[0m\u001b[0;34m:\u001b[0m\u001b[0;34m\u001b[0m\u001b[0m\n\u001b[0m\u001b[1;32m     11\u001b[0m     \u001b[0;32mdef\u001b[0m \u001b[0m__init__\u001b[0m\u001b[0;34m(\u001b[0m\u001b[0mself\u001b[0m\u001b[0;34m)\u001b[0m\u001b[0;34m:\u001b[0m\u001b[0;34m\u001b[0m\u001b[0m\n\u001b[1;32m     12\u001b[0m         \u001b[0mself\u001b[0m\u001b[0;34m.\u001b[0m\u001b[0mlastLoadMatchday\u001b[0m \u001b[0;34m=\u001b[0m \u001b[0;32mNone\u001b[0m\u001b[0;34m\u001b[0m\u001b[0m\n",
      "\u001b[0;31mNameError\u001b[0m: name 'team' is not defined"
     ]
    }
   ],
   "source": [
    "from urllib.request import urlopen, Request\n",
    "import json\n",
    "from pandas.io.json import json_normalize\n",
    "from pprint import pprint\n",
    "from datetime import date\n",
    "import os\n",
    "\n",
    "\n",
    "\n",
    "class leauge(team,):\n",
    "    def __init__(self):\n",
    "        self.lastLoadMatchday = None\n",
    "    \n",
    "    def downloadMatchDay(self, year, day):\n",
    "        ''' Download the Json file and save it in the season folder.\n",
    "        \n",
    "        First of all it looks if a folder with the same name already exist. \n",
    "        Following it creates an folder if it doesn't. Afterwords it download\n",
    "        the JSOON-file and save the download.\n",
    "        \n",
    "        Parameters : \n",
    "        year = int or stirng\n",
    "            The seasonyear of the observable event.\n",
    "        day = int or string\n",
    "            The matchday of the observable event.\n",
    "        '''\n",
    "        if not os.path.exists(str(year)):\n",
    "            os.makedirs(str(year))\n",
    "        season_day = (str(year) + '/' + str(day))\n",
    "        request = Request('https://www.openligadb.de/api/getmatchdata/bl1/'+season_day)\n",
    "        response = json.loads(urlopen(request).read().decode('utf-8'))\n",
    "        # Save the Download in File season_day.json\n",
    "        with open(season_day + '.json', 'w') as f:\n",
    "             json.dump(response, f)\n",
    "        \n",
    "    def loadMatchDay(self, year, day):    \n",
    "        ''' Load the JSON file from your local disk.\n",
    "        \n",
    "        Parameters : \n",
    "        year = int or stirng\n",
    "            The seasonyear of the observable event.\n",
    "        day = int or string\n",
    "            The matchday of the observable event.\n",
    "        Returns:\n",
    "            The data form the file.\n",
    "        '''\n",
    "        season_day = (str(year) + '/' + str(day))\n",
    "        with open(season_day+'.json', 'r') as f:#(str(year)+'/'+ str(day) + \n",
    "            return json.load(f)\n",
    "    \n",
    "    def loadRek(self):\n",
    "        if self.loadMatchDay(self.lastLoadMatchday[0], self.lastLoadMatchday[1])[8]['MatchIsFinished']==0:\n",
    "            print('Finished')\n",
    "            return 1\n",
    "        else:\n",
    "            if (self.lastLoadMatchday[1]>=34):\n",
    "                self.lastLoadMatchday[1] = 1\n",
    "                self.lastLoadMatchday[0] += 1\n",
    "                print('Now loading season', self.lastLoadMatchday[0])\n",
    "            else:\n",
    "                self.lastLoadMatchday[1] +=1\n",
    "            print('loading ...')\n",
    "            self.downloadMatchDay(self.lastLoadMatchday[0], self.lastLoadMatchday[1])\n",
    "            self.loadRek()\n",
    "            return 0\n",
    "        \n",
    "    def getUpdate(self):\n",
    "        ''' Load all data to the newest one.\n",
    "        \n",
    "        '''\n",
    "        if(self.lastLoadMatchday == None):\n",
    "            firstEntryYear = 2013\n",
    "            firstEntryDay = 1\n",
    "            self.lastLoadMatchday = [firstEntryYear, firstEntryDay]\n",
    "            pprint('Download all scores till season: ' + str(firstEntryYear) + '/' + str(firstEntryYear+1))\n",
    "        \n",
    "        self.downloadMatchDay(self.lastLoadMatchday[0], self.lastLoadMatchday[1])\n",
    "        self.loadRek()\n",
    "        print(self.lastLoadMatchday)\n",
    "    \n",
    "    def printResults(self, year, day):\n",
    "        Data = self.loadMatchDay(year, day)\n",
    "        for x in range(len(Data)):\n",
    "            print(Data[x]['Team1']['TeamName'], Data[x]['MatchResults'][1]['PointsTeam1'], ':'\n",
    "                  , Data[x]['MatchResults'][1]['PointsTeam2'], Data[x]['Team2']['TeamName'])\n",
    "        \n",
    "#season_day = '2016/30'\n",
    "#request = Request('https://www.openligadb.de/api/getmatchdata/bl1/'+season_day)\n",
    "#response = urlopen(request).read().decode('utf-8')\n",
    "#data = json.loads(response)\n",
    "#data[0]['Goals'][1]"
   ]
  },
  {
   "cell_type": "code",
   "execution_count": 70,
   "metadata": {
    "collapsed": false,
    "scrolled": true
   },
   "outputs": [],
   "source": [
    "Bundesliga = leauge()"
   ]
  },
  {
   "cell_type": "code",
   "execution_count": 72,
   "metadata": {
    "collapsed": false
   },
   "outputs": [
    {
     "name": "stdout",
     "output_type": "stream",
     "text": [
      "Finished\n",
      "[2016, 31]\n"
     ]
    }
   ],
   "source": [
    "Bundesliga.downloadMatchDay(2016,31)\n",
    "Bundesliga.loadMatchDay(2016,31)\n",
    "Bundesliga.getUpdate()"
   ]
  },
  {
   "cell_type": "code",
   "execution_count": 160,
   "metadata": {
    "collapsed": false
   },
   "outputs": [
    {
     "data": {
      "text/plain": [
       "True"
      ]
     },
     "execution_count": 160,
     "metadata": {},
     "output_type": "execute_result"
    }
   ],
   "source": [
    "Bundesliga.lastUpdate > date(2014 ,7 ,8)"
   ]
  },
  {
   "cell_type": "code",
   "execution_count": 14,
   "metadata": {
    "collapsed": false
   },
   "outputs": [
    {
     "name": "stdout",
     "output_type": "stream",
     "text": [
      "loading ...\n",
      "loading ...\n",
      "loading ...\n",
      "loading ...\n",
      "loading ...\n",
      "loading ...\n",
      "loading ...\n",
      "loading ...\n",
      "loading ...\n",
      "loading ...\n",
      "loading ...\n",
      "loading ...\n",
      "loading ...\n",
      "loading ...\n",
      "loading ...\n",
      "loading ...\n",
      "loading ...\n",
      "loading ...\n",
      "loading ...\n",
      "loading ...\n",
      "loading ...\n",
      "loading ...\n",
      "loading ...\n",
      "loading ...\n",
      "loading ...\n",
      "loading ...\n",
      "loading ...\n",
      "loading ...\n",
      "loading ...\n",
      "loading ...\n",
      "loading ...\n",
      "loading ...\n",
      "loading ...\n",
      "loading ...\n",
      "FUUUUUU\n"
     ]
    }
   ],
   "source": [
    "class iterationDays:\n",
    "    def __init__(self, n):\n",
    "        self.i = 0\n",
    "        self.n = n\n",
    "\n",
    "    def __iter__(self):\n",
    "        return self\n",
    "\n",
    "    def next(self):\n",
    "        if self.i < self.n:\n",
    "            i = self.i\n",
    "            self.i += 1\n",
    "            return 1\n",
    "        else:\n",
    "            print('FUUUUUU')\n",
    "            return 0\n",
    "test = iterationDays(34)\n",
    "while(test.next()==True):\n",
    "    print('loading ...')"
   ]
  },
  {
   "cell_type": "code",
   "execution_count": null,
   "metadata": {
    "collapsed": true
   },
   "outputs": [],
   "source": []
  },
  {
   "cell_type": "code",
   "execution_count": 65,
   "metadata": {
    "collapsed": false
   },
   "outputs": [],
   "source": [
    "class iterationDays:\n",
    "    def __init__(self, matchFinished):\n",
    "        self.mF = matchFinished\n",
    "        self.day = 0\n",
    "        self.year = 0\n",
    "        \n",
    "    def __iter__(self):\n",
    "        return self\n",
    "\n",
    "    def next(self):\n",
    "        if self.mF[self.day + self.year*4] == True:\n",
    "            if (self.day>33):\n",
    "                self.day = 0\n",
    "                self.year += 1\n",
    "            else:\n",
    "                self.day += 1\n",
    "            print('day = ', self.day, 'year', self.year)\n",
    "            return 1\n",
    "        else:\n",
    "            print('FUUUUUU')\n",
    "            return 0"
   ]
  },
  {
   "cell_type": "code",
   "execution_count": null,
   "metadata": {
    "collapsed": true
   },
   "outputs": [],
   "source": []
  }
 ],
 "metadata": {
  "anaconda-cloud": {},
  "kernelspec": {
   "display_name": "Python [default]",
   "language": "python",
   "name": "python3"
  },
  "language_info": {
   "codemirror_mode": {
    "name": "ipython",
    "version": 3
   },
   "file_extension": ".py",
   "mimetype": "text/x-python",
   "name": "python",
   "nbconvert_exporter": "python",
   "pygments_lexer": "ipython3",
   "version": "3.5.2"
  }
 },
 "nbformat": 4,
 "nbformat_minor": 1
}
