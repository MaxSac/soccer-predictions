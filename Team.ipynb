{
 "cells": [
  {
   "cell_type": "code",
   "execution_count": 16,
   "metadata": {
    "collapsed": false
   },
   "outputs": [
    {
     "name": "stdout",
     "output_type": "stream",
     "text": [
      "False\n",
      "False\n",
      "False\n",
      "False\n",
      "False\n",
      "False\n",
      "False\n",
      "False\n",
      "False\n"
     ]
    }
   ],
   "source": [
    "class team:\n",
    "    def __init__(self, teamName):\n",
    "        self.teamName = None \n",
    "        self.Stadium = None\n",
    "        \n",
    "    def seasonScores(self):\n",
    "        print('Scores of the Sesons')\n",
    "        print('Home/away/...')\n",
    "        \n",
    "    def headToHead(self):\n",
    "        print('The winner of the last Matches')\n",
    "        print('Home/away/...')\n",
    "        \n",
    "    def leauqueSituation(self):\n",
    "        print('Print the Tablescore of the Team of the actuell Season')\n",
    "        print('Home/away/...')\n",
    "        \n",
    "    def scorer(self):\n",
    "        print('Print all scorer of the Team')\n",
    "        \n",
    "    def whenScoreGoals(self):\n",
    "        print('Gives a hist of the miniutes the team score goals')\n",
    "        \n",
    "    def whenGetGoals(self):\n",
    "        print('Gives a hist of the miniutes the team get goals')\n",
    "    \n",
    "        \n",
    "exec(open('Einlesen.py').read())\n",
    "data = Bundesliga.loadMatchDay(2013,11)\n",
    "\n",
    "\n",
    "club = team(data[0]['Team1']['TeamName'])\n",
    "for x in range(len(data)):\n",
    "    print(data[x]['Team1']['TeamName'] == club.teamName)\n",
    "\n",
    "\n",
    "searchFuntion('bvb', 'wtf', 2013,11)"
   ]
  }
 ],
 "metadata": {
  "anaconda-cloud": {},
  "kernelspec": {
   "display_name": "Python [default]",
   "language": "python",
   "name": "python3"
  },
  "language_info": {
   "codemirror_mode": {
    "name": "ipython",
    "version": 3
   },
   "file_extension": ".py",
   "mimetype": "text/x-python",
   "name": "python",
   "nbconvert_exporter": "python",
   "pygments_lexer": "ipython3",
   "version": "3.5.2"
  }
 },
 "nbformat": 4,
 "nbformat_minor": 1
}
