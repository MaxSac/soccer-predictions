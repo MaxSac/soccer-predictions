{
 "cells": [
  {
   "cell_type": "code",
   "execution_count": 45,
   "metadata": {
    "collapsed": false
   },
   "outputs": [],
   "source": [
    "exec(open('Season.py').read())\n",
    "class team(season):\n",
    "    def __init__(self, teamName):\n",
    "        self.teamName = teamName \n",
    "        self.Stadium = None\n",
    "        \n",
    "    def seasonScores(self, Season, typus='away'):\n",
    "        return season(Season).scores[typus]\n",
    "    \n",
    "        \n",
    "    def headToHead(self):\n",
    "        print('The winner of the last Matches')\n",
    "        print('Home/away/...')\n",
    "        \n",
    "    def leauqueSituation(self):\n",
    "        print('Print the Tablescore of the Team of the actuell Season')\n",
    "        print('Home/away/...')\n",
    "        \n",
    "    def scorer(self):\n",
    "        print('Print all scorer of the Team')\n",
    "        \n",
    "    def whenScoreGoals(self):\n",
    "        print('Gives a hist of the miniutes the team score goals')\n",
    "        \n",
    "    def whenGetGoals(self):\n",
    "        print('Gives a hist of the miniutes the team get goals')\n",
    "    \n",
    "    def seasonsInBundesliga(self):\n",
    "        print('Played season in bundesleauge')\n",
    "        \n",
    "    def loadTeamData(self, teamName):\n",
    "        print('TeamData')"
   ]
  },
  {
   "cell_type": "code",
   "execution_count": 53,
   "metadata": {
    "collapsed": false,
    "scrolled": true
   },
   "outputs": [
    {
     "name": "stdout",
     "output_type": "stream",
     "text": [
      "1 \n",
      "2\n"
     ]
    }
   ],
   "source": [
    "print('1 \\n2')"
   ]
  },
  {
   "cell_type": "code",
   "execution_count": 46,
   "metadata": {
    "collapsed": false
   },
   "outputs": [],
   "source": [
    "bvb = team('Borussia Dortmund')"
   ]
  },
  {
   "cell_type": "code",
   "execution_count": 47,
   "metadata": {
    "collapsed": false
   },
   "outputs": [
    {
     "name": "stdout",
     "output_type": "stream",
     "text": [
      "{'LastLoadMatchday': [2016, 11],\n",
      " 'teams2014': ['Bayern München',\n",
      "               'VfL Wolfsburg',\n",
      "               'TSG 1899 Hoffenheim',\n",
      "               'FC Augsburg',\n",
      "               'Hannover 96',\n",
      "               'FC Schalke 04',\n",
      "               'Hertha BSC',\n",
      "               'Werder Bremen',\n",
      "               'Eintracht Frankfurt',\n",
      "               'SC Freiburg',\n",
      "               '1. FC Köln',\n",
      "               'Hamburger SV',\n",
      "               'Borussia Dortmund',\n",
      "               'Bayer 04 Leverkusen',\n",
      "               'SC Paderborn 07',\n",
      "               '1. FSV Mainz 05',\n",
      "               'Borussia Mönchengladbach',\n",
      "               'VfB Stuttgart']}\n",
      "{'difference': {'1. FC Köln': array([ 2,  0, -1,  0,  0,  0,  0,  0,  0,  0,  0, -1,  0, -1,  0,  0,  0]),\n",
      "                '1. FSV Mainz 05': array([ 0,  1,  1,  0, -1,  0, -1, -1,  0, -1,  1,  0,  1,  0,  2,  0]),\n",
      "                'Bayer 04 Leverkusen': array([ 1, -3,  0,  3, -1,  0,  0,  0,  0, -1,  1,  0,  1,  1,  0,  0]),\n",
      "                'Bayern München': array([ 1,  0,  1,  0,  1,  1,  0,  0, -2,  1,  2,  0,  2,  1,  1,  0,  0]),\n",
      "                'Borussia Dortmund': array([ 2,  0, -1, -1,  1,  2, -1, -1, -1,  0,  1,  1,  0,  0, -2,  0,  0]),\n",
      "                'Borussia Mönchengladbach': array([ 0,  0,  2,  3,  0, -1,  0,  0,  0, -1,  0,  0,  2,  2,  0,  0,  0]),\n",
      "                'Eintracht Frankfurt': array([ 0,  1,  1,  0,  0, -1, -1,  1,  1, -1,  0,  0,  0, -1, -2,  0,  0]),\n",
      "                'FC Augsburg': array([-2,  0, -1,  0, -2, -1,  0, -1, -1,  0, -2,  0,  0,  0, -1,  0]),\n",
      "                'FC Schalke 04': array([ 0, -1,  0, -2,  0, -1,  3,  0,  0,  0,  0,  0,  0,  0, -2, -1]),\n",
      "                'Hamburger SV': array([ 0, -2, -1,  1,  0, -1,  1,  0,  0,  1, -3,  0, -1, -2,  0,  1, -1]),\n",
      "                'Hannover 96': array([ 0,  0,  0, -3,  0,  2, -1,  0, -1, -1, -1,  0, -1, -1, -2, -2,  0]),\n",
      "                'Hertha BSC': array([ 1,  0, -1, -1,  0,  1,  0,  0, -1,  2,  0,  0,  0,  0,  0, -1]),\n",
      "                'SC Freiburg': array([-1, -2,  1,  0, -1,  0,  0,  1, -1, -1,  1, -1, -1,  0, -2,  0]),\n",
      "                'SC Paderborn 07': array([ 1, -2,  0,  0, -1, -1, -1,  0, -1,  0,  0, -1, -2,  0,  0, -1,  0]),\n",
      "                'TSG 1899 Hoffenheim': array([ 1,  1,  0,  0, -1, -2, -1,  3, -1, -2,  0, -2,  0, -1,  0, -3, -1]),\n",
      "                'VfB Stuttgart': array([ 0, -1,  0,  0,  1, -1,  0, -1,  1,  0,  0,  0, -2,  0,  0,  0]),\n",
      "                'VfL Wolfsburg': array([-1,  0, -1,  1,  2, -2,  0,  0,  0,  1, -1,  0, -1,  1,  0,  2]),\n",
      "                'Werder Bremen': array([-1,  0, -1,  0, -4,  0,  0,  0, -1,  0,  0,  1,  1, -1, -1, -1])},\n",
      " 'halftime': {'1. FC Köln': array([2, 0, 0, 2, 1, 4, 1, 2, 1, 2, 0, 1, 0, 0, 0, 0, 0]),\n",
      "              '1. FSV Mainz 05': array([2, 3, 2, 1, 0, 0, 1, 1, 0, 1, 2, 0, 2, 0, 3, 0]),\n",
      "              'Bayer 04 Leverkusen': array([2, 1, 0, 3, 0, 3, 0, 1, 1, 1, 2, 3, 1, 3, 1, 0]),\n",
      "              'Bayern München': array([1, 0, 2, 0, 4, 1, 4, 2, 1, 2, 6, 3, 4, 1, 2, 0, 1]),\n",
      "              'Borussia Dortmund': array([3, 0, 1, 1, 1, 2, 0, 0, 1, 0, 3, 2, 0, 3, 1, 1, 1]),\n",
      "              'Borussia Mönchengladbach': array([0, 0, 2, 3, 0, 0, 1, 1, 1, 0, 1, 1, 1, 4, 0, 2, 2]),\n",
      "              'Eintracht Frankfurt': array([2, 2, 2, 1, 0, 3, 2, 1, 1, 2, 1, 2, 1, 0, 0, 0, 0]),\n",
      "              'FC Augsburg': array([0, 1, 0, 0, 1, 0, 1, 2, 0, 1, 2, 0, 0, 1, 2, 1]),\n",
      "              'FC Schalke 04': array([1, 1, 3, 1, 0, 0, 4, 2, 1, 0, 0, 2, 0, 1, 0, 0]),\n",
      "              'Hamburger SV': array([0, 0, 0, 1, 0, 0, 1, 0, 0, 3, 0, 1, 0, 0, 0, 2, 1]),\n",
      "              'Hannover 96': array([0, 0, 0, 0, 1, 1, 3, 3, 2, 0, 1, 1, 0, 2, 0, 2, 2]),\n",
      "              'Hertha BSC': array([2, 2, 0, 0, 1, 2, 2, 3, 0, 2, 1, 0, 1, 1, 0, 0]),\n",
      "              'SC Freiburg': array([0, 1, 3, 1, 0, 1, 2, 1, 0, 0, 2, 0, 0, 0, 2, 1]),\n",
      "              'SC Paderborn 07': array([3, 0, 2, 0, 0, 0, 1, 0, 0, 0, 2, 0, 0, 0, 0, 2, 0]),\n",
      "              'TSG 1899 Hoffenheim': array([1, 2, 0, 1, 1, 0, 0, 5, 1, 0, 1, 1, 0, 2, 2, 1, 0]),\n",
      "              'VfB Stuttgart': array([1, 0, 2, 2, 5, 0, 4, 1, 1, 0, 1, 1, 0, 1, 1, 2]),\n",
      "              'VfL Wolfsburg': array([1, 1, 0, 1, 4, 2, 3, 2, 1, 3, 5, 0, 1, 2, 0, 2]),\n",
      "              'Werder Bremen': array([2, 3, 2, 1, 0, 2, 0, 2, 1, 2, 1, 1, 1, 2, 2, 1])},\n",
      " 'matchday': {'1. FC Köln': array([ 2,  3,  5,  7,  9, 11, 13, 15, 17, 18, 21, 23, 25, 27, 29, 31, 33]),\n",
      "              '1. FSV Mainz 05': array([ 1,  3,  5,  7,  9, 11, 13, 14, 16, 19, 21, 23, 25, 27, 29, 32]),\n",
      "              'Bayer 04 Leverkusen': array([ 1,  4,  6,  8, 10, 12, 14, 16, 19, 20, 22, 24, 26, 28, 30, 32]),\n",
      "              'Bayern München': array([ 2,  4,  6,  9, 11, 13, 15, 17, 18, 20, 22, 24, 25, 27, 29, 31, 33]),\n",
      "              'Borussia Dortmund': array([ 2,  4,  6,  8, 10, 12, 13, 15, 17, 18, 20, 22, 24, 26, 28, 31, 33]),\n",
      "              'Borussia Mönchengladbach': array([ 2,  4,  6,  8, 11, 13, 15, 17, 18, 20, 22, 24, 26, 27, 29, 31, 33]),\n",
      "              'Eintracht Frankfurt': array([ 2,  4,  6,  8, 10, 12, 15, 17, 18, 20, 22, 24, 26, 28, 30, 31, 33]),\n",
      "              'FC Augsburg': array([ 1,  3,  5,  7,  8, 10, 12, 14, 16, 19, 21, 23, 26, 28, 30, 32]),\n",
      "              'FC Schalke 04': array([ 1,  3,  5,  7,  9, 11, 14, 16, 19, 21, 23, 25, 27, 29, 30, 32]),\n",
      "              'Hamburger SV': array([ 1,  3,  5,  7,  9, 11, 13, 15, 17, 19, 21, 23, 25, 27, 29, 31, 33]),\n",
      "              'Hannover 96': array([ 2,  4,  6,  7,  9, 11, 13, 15, 17, 18, 20, 22, 25, 27, 29, 31, 33]),\n",
      "              'Hertha BSC': array([ 2,  4,  6,  8, 10, 12, 14, 16, 18, 20, 22, 24, 26, 28, 30, 32]),\n",
      "              'SC Freiburg': array([ 1,  3,  5,  7,  9, 10, 12, 14, 16, 19, 21, 23, 25, 28, 30, 32]),\n",
      "              'SC Paderborn 07': array([ 2,  5,  7,  9, 11, 13, 15, 17, 18, 20, 21, 23, 25, 27, 29, 31, 33]),\n",
      "              'TSG 1899 Hoffenheim': array([ 2,  4,  6,  8, 10, 12, 14, 17, 18, 20, 22, 24, 26, 28, 30, 32, 33]),\n",
      "              'VfB Stuttgart': array([ 1,  3,  5,  7,  9, 11, 13, 15, 16, 19, 21, 23, 25, 27, 29, 31]),\n",
      "              'VfL Wolfsburg': array([ 1,  3,  5,  8, 10, 12, 14, 16, 19, 21, 23, 24, 26, 28, 30, 32]),\n",
      "              'Werder Bremen': array([ 1,  3,  4,  6,  8, 10, 12, 14, 16, 19, 22, 24, 26, 28, 30, 32])},\n",
      " 'result': {'1. FC Köln': array([2, 0, 0, 1, 0, 3, 1, 0, 1, 0, 0, 1, 0, 0, 0, 0, 0]),\n",
      "            '1. FSV Mainz 05': array([1, 1, 2, 1, 0, 0, 1, 0, 0, 0, 1, 0, 1, 0, 2, 0]),\n",
      "            'Bayer 04 Leverkusen': array([1, 1, 0, 3, 0, 0, 0, 0, 0, 1, 1, 0, 1, 1, 0, 0]),\n",
      "            'Bayern München': array([1, 0, 1, 0, 1, 1, 0, 1, 0, 1, 2, 1, 2, 1, 1, 0, 1]),\n",
      "            'Borussia Dortmund': array([2, 0, 1, 0, 1, 2, 0, 0, 0, 0, 1, 3, 0, 1, 0, 1, 1]),\n",
      "            'Borussia Mönchengladbach': array([0, 0, 2, 3, 0, 0, 1, 1, 0, 0, 0, 2, 2, 3, 0, 1, 0]),\n",
      "            'Eintracht Frankfurt': array([1, 2, 1, 0, 0, 0, 0, 1, 1, 1, 1, 1, 0, 0, 0, 0, 0]),\n",
      "            'FC Augsburg': array([0, 0, 0, 0, 0, 0, 0, 0, 0, 0, 1, 0, 0, 0, 1, 0]),\n",
      "            'FC Schalke 04': array([0, 0, 0, 0, 0, 0, 3, 1, 0, 0, 0, 1, 0, 0, 0, 0]),\n",
      "            'Hamburger SV': array([0, 0, 0, 1, 0, 0, 1, 0, 0, 1, 0, 1, 0, 0, 0, 1, 1]),\n",
      "            'Hannover 96': array([0, 0, 0, 0, 0, 2, 1, 1, 0, 0, 0, 1, 0, 0, 0, 0, 1]),\n",
      "            'Hertha BSC': array([1, 1, 0, 0, 1, 1, 1, 4, 0, 2, 1, 0, 0, 0, 0, 0]),\n",
      "            'SC Freiburg': array([0, 0, 2, 1, 0, 0, 1, 1, 0, 0, 1, 0, 0, 0, 0, 1]),\n",
      "            'SC Paderborn 07': array([1, 0, 1, 0, 0, 0, 0, 0, 0, 0, 0, 0, 0, 0, 0, 0, 0]),\n",
      "            'TSG 1899 Hoffenheim': array([1, 1, 0, 1, 1, 0, 0, 3, 1, 0, 1, 0, 0, 0, 1, 0, 0]),\n",
      "            'VfB Stuttgart': array([0, 0, 0, 1, 2, 0, 1, 0, 1, 0, 1, 0, 0, 1, 1, 1]),\n",
      "            'VfL Wolfsburg': array([0, 0, 0, 2, 2, 1, 1, 1, 0, 5, 2, 0, 0, 1, 0, 3]),\n",
      "            'Werder Bremen': array([0, 1, 1, 1, 0, 1, 0, 1, 1, 1, 0, 1, 1, 0, 1, 0])}}\n"
     ]
    }
   ],
   "source": [
    "pprint(bvb.seasonScores(2014))"
   ]
  },
  {
   "cell_type": "code",
   "execution_count": null,
   "metadata": {
    "collapsed": true
   },
   "outputs": [],
   "source": []
  }
 ],
 "metadata": {
  "anaconda-cloud": {},
  "kernelspec": {
   "display_name": "Python [default]",
   "language": "python",
   "name": "python3"
  },
  "language_info": {
   "codemirror_mode": {
    "name": "ipython",
    "version": 3
   },
   "file_extension": ".py",
   "mimetype": "text/x-python",
   "name": "python",
   "nbconvert_exporter": "python",
   "pygments_lexer": "ipython3",
   "version": "3.5.2"
  }
 },
 "nbformat": 4,
 "nbformat_minor": 1
}
