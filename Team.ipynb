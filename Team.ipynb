{
 "cells": [
  {
   "cell_type": "code",
   "execution_count": 10,
   "metadata": {
    "collapsed": false
   },
   "outputs": [
    {
     "data": {
      "text/plain": [
       "[{'Goals': None,\n",
       "  'Group': None,\n",
       "  'LastUpdateDateTime': None,\n",
       "  'LeagueId': 0,\n",
       "  'Location': None,\n",
       "  'MatchDateTime': '2017-04-26T18:48:14.7091444+02:00',\n",
       "  'MatchDateTimeUTC': None,\n",
       "  'MatchID': -1,\n",
       "  'MatchIsFinished': False,\n",
       "  'MatchResults': None,\n",
       "  'NumberOfViewers': None,\n",
       "  'Team1': {'ShortName': None,\n",
       "   'TeamIconUrl': None,\n",
       "   'TeamId': 0,\n",
       "   'TeamName': 'www.OpenLigaDB.de'},\n",
       "  'Team2': {'ShortName': None,\n",
       "   'TeamIconUrl': None,\n",
       "   'TeamId': 0,\n",
       "   'TeamName': 'Maximale Abfrageanzahl von 1000 Abfragen pro Tag erreicht! - https://plus.google.com/105834637802799309125/posts/LSPwcge5cV2'},\n",
       "  'TimeZoneID': None}]"
      ]
     },
     "execution_count": 10,
     "metadata": {},
     "output_type": "execute_result"
    }
   ],
   "source": [
    "class team:\n",
    "    def __init__(self):\n",
    "        print('Hello World')\n",
    "exec(open('Einlesen.py').read())\n",
    "Bundesliga.loadMatchDay(2016,31)"
   ]
  },
  {
   "cell_type": "code",
   "execution_count": null,
   "metadata": {
    "collapsed": true
   },
   "outputs": [],
   "source": []
  }
 ],
 "metadata": {
  "anaconda-cloud": {},
  "kernelspec": {
   "display_name": "Python [default]",
   "language": "python",
   "name": "python3"
  },
  "language_info": {
   "codemirror_mode": {
    "name": "ipython",
    "version": 3
   },
   "file_extension": ".py",
   "mimetype": "text/x-python",
   "name": "python",
   "nbconvert_exporter": "python",
   "pygments_lexer": "ipython3",
   "version": "3.5.2"
  }
 },
 "nbformat": 4,
 "nbformat_minor": 1
}
