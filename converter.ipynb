{
 "cells": [
  {
   "cell_type": "code",
   "execution_count": 1,
   "metadata": {
    "collapsed": false
   },
   "outputs": [
    {
     "name": "stdout",
     "output_type": "stream",
     "text": [
      "Finished\n"
     ]
    }
   ],
   "source": [
    "import json\n",
    "from pandas.io.json import json_normalize\n",
    "exec(open('downloader.py').read())"
   ]
  },
  {
   "cell_type": "code",
   "execution_count": 2,
   "metadata": {
    "collapsed": false
   },
   "outputs": [],
   "source": [
    "class getInfo():\n",
    "    def __init__(self, data):\n",
    "        self.data = data\n",
    "        \n",
    "    def mergeMatchGames(self):\n",
    "        storage = pd.DataFrame()\n",
    "        for x in range(9):\n",
    "            match = self.data[x]\n",
    "            Match = pd.DataFrame({\n",
    "                    'Team1': [self.getTeam1Name(match)],\n",
    "                    'Team2': [self.getTeam2Name(match)],\n",
    "                    'HalftimeResult': [self.getHalfResult(match)],\n",
    "                    'FinalResult': [self.getEndResult(match)],\n",
    "                    'GoalTimeTeam1': [self.getGoalTimeTeam1(match)],\n",
    "                    'GoalTimeTeam2': [self.getGoalTimeTeam2(match)],\n",
    "                    'Spectators': [self.getSpectators(match)],\n",
    "                    'DateTime': [self.getDateTime(match)],\n",
    "                    'Weekday': [self.getDateTime(match).dayofweek],\n",
    "                    'Hour': [self.getDateTime(match).hour],\n",
    "                    'PeanltyTeam1': [self.getPenaltyTeam1(match)],\n",
    "                    'PenaltyTeam2': [self.getPenaltyTeam2(match)],\n",
    "                    'ScorerTeam1': [self.getScorerTeam1(match)],\n",
    "                    'ScorerTeam2': [self.getScorerTeam2(match)],\n",
    "                    'OwnGoalTeam1': [self.getOwnGoalTeam1(match)],\n",
    "                    'OwnGoalTeam2': [self.getOwnGoalTeam2(match)],\n",
    "                    'OvertimeGoalTeam1': [self.getOvertimeGoalTeam1(match)],\n",
    "                    'OvertimeGoalTeam2': [self.getOvertimeGoalTeam2(match)],\n",
    "                })\n",
    "            storage = storage.append(Match)\n",
    "        return storage\n",
    "   \n",
    "    def getTeam1Name(self,match):\n",
    "        return match['Team1']['TeamName']\n",
    "    \n",
    "    def getTeam2Name(self,match):\n",
    "        return match['Team2']['TeamName']\n",
    "    \n",
    "    def getHalfResult(self,match):\n",
    "        return [match['MatchResults'][0]['PointsTeam1'], match['MatchResults'][0]['PointsTeam2']]\n",
    "\n",
    "    def getEndResult(self,match):\n",
    "        return [match['MatchResults'][1]['PointsTeam1'], match['MatchResults'][1]['PointsTeam2']]\n",
    "    \n",
    "    def mergeInfoTeam(self, match, Info, teamNumber):\n",
    "        info = np.array([])\n",
    "        team = np.array([])\n",
    "        for x in match['Goals']:\n",
    "            team = np.append(team, x['ScoreTeam'+str(teamNumber)])\n",
    "            info = np.append(info, x[Info])\n",
    "        team = team[info != np.array(None)]\n",
    "        info = info[info != np.array(None)]\n",
    "        if(len(info)==0):\n",
    "            return np.array([0])\n",
    "        elif(len(team)>1):\n",
    "            mask = np.append(team[0], team[1:]-team[:-1]).astype(bool)\n",
    "            return info[mask]\n",
    "        else:\n",
    "            mask = team[0].astype(bool)\n",
    "            return info[mask]\n",
    "    \n",
    "    def getGoalTimeTeam1(self, match):\n",
    "        return self.mergeInfoTeam(match, 'MatchMinute', 1).astype(int)\n",
    "    \n",
    "    def getGoalTimeTeam2(self, match):\n",
    "        return self.mergeInfoTeam(match, 'MatchMinute', 2).astype(int)\n",
    "    \n",
    "    def getPenaltyTeam1(self, match):\n",
    "        return self.mergeInfoTeam(match, 'IsPenalty', 1).astype(bool)\n",
    "    \n",
    "    def getPenaltyTeam2(self, match):\n",
    "        return self.mergeInfoTeam(match, 'IsPenalty', 2).astype(bool)\n",
    "    \n",
    "    def getOwnGoalTeam1(self, match):\n",
    "        return self.mergeInfoTeam(match, 'IsOwnGoal', 1).astype(bool)\n",
    "    \n",
    "    def getOwnGoalTeam2(self, match):\n",
    "        return self.mergeInfoTeam(match, 'IsOwnGoal', 2).astype(bool)\n",
    "    \n",
    "    def getOvertimeGoalTeam1(self, match):\n",
    "        return self.mergeInfoTeam(match, 'IsOvertime', 1).astype(bool)\n",
    "    \n",
    "    def getOvertimeGoalTeam2(self, match):\n",
    "        return self.mergeInfoTeam(match, 'IsOvertime', 2).astype(bool)\n",
    "    \n",
    "    def getScorerTeam1(self, match):\n",
    "        return self.mergeInfoTeam(match, 'GoalGetterName', 1)\n",
    "    \n",
    "    def getScorerTeam2(self, match):\n",
    "        return self.mergeInfoTeam(match, 'GoalGetterName', 2)\n",
    "    \n",
    "    def getSpectators(self,match):\n",
    "        return match['NumberOfViewers']\n",
    "    \n",
    "    def getDateTime(self,match):\n",
    "        return pd.to_datetime(match['MatchDateTime'], unit='ns', errors='ignore', box=True)"
   ]
  },
  {
   "cell_type": "code",
   "execution_count": 3,
   "metadata": {
    "collapsed": false
   },
   "outputs": [],
   "source": [
    "class converter(downloader, getInfo):\n",
    "    def __init__(self):\n",
    "        self.status = None\n",
    "        self.lastConvMatchday = self.readLastConvMatchday()\n",
    "    \n",
    "    def readLastConvMatchday(self):\n",
    "        info = self.loadInfo()\n",
    "        if('lastConvMatchday' in info):\n",
    "            self.lastConvMatchday = info['lastConvMatchday']\n",
    "        else:\n",
    "            self.lastConvMatchday = self.beginHistory()\n",
    "            self.updateInfo({'lastConvMatchday': self.lastConvMatchday})\n",
    "            \n",
    "    def saveLastConvMatchday(self):\n",
    "        '''update the last load matchday from info.txt file'''\n",
    "        self.updateInfo({'lastConvMatchday': self.lastConvMatchday})\n",
    "    \n",
    "    def raiseMatchday(self):\n",
    "        if(self.lastConvMatchday[1]>=34):\n",
    "            self.lastConvMatchday[1] = 1\n",
    "            self.lastConvMatchday[0] += 1\n",
    "            print('Now loading season', self.lastConvMatchday[0])\n",
    "        else:\n",
    "            self.lastConvMatchday[1] += 1\n",
    "            print(self.lastConvMatchday)\n",
    "    \n",
    "    def loadMatchday(self, year, day):\n",
    "        season_day = (str(year) + '/' + str(day))\n",
    "        with open(season_day+'.json', 'r') as f:#(str(year)+'/'+ str(day) + \n",
    "            return json.load(f)\n",
    "    \n",
    "    def convertMatchday(self, year, day):\n",
    "        jsonData = self.loadMatchday(year, day)\n",
    "        pandasData = getInfo(jsonData).mergeMatchGames()\n",
    "        return pandasData\n",
    "    \n",
    "    def saveMatchday(self, data, year, day):\n",
    "        file = './data/'+str(year)\n",
    "        if(os.path.isfile(file)== True):\n",
    "            loadData = pd.read_pickle(file)\n",
    "            loadData = loadData.append(data)\n",
    "            loadData.to_pickle(file)\n",
    "        else:\n",
    "            data.to_pickle(file)\n",
    "                \n",
    "    def updateSeason(self):\n",
    "        downloader().getUpdate()\n",
    "        lastDown = downloader().readLastLoadMatchday()\n",
    "        if(lastDown > self.lastConvMatchday):\n",
    "            data = self.convertMatchday(self.lastConvMatchday[0], self.lastConvMatchday[1])\n",
    "            self.saveMatchday(data, self.lastConvMatchday[0], self.lastConvMatchday[1])\n",
    "            self.raiseMatchday()\n",
    "            self.updateSeason()\n",
    "        else:\n",
    "            print('Everything up to date')"
   ]
  },
  {
   "cell_type": "code",
   "execution_count": 4,
   "metadata": {
    "collapsed": false,
    "scrolled": true
   },
   "outputs": [
    {
     "name": "stdout",
     "output_type": "stream",
     "text": [
      "{'a': 'a', 'lastLoadMatchday': [2017, 8], 'b': 'b', 'c': 'c'}\n",
      "Finished\n"
     ]
    },
    {
     "ename": "AttributeError",
     "evalue": "'downloader' object has no attribute 'readLastLoadMatchday'",
     "output_type": "error",
     "traceback": [
      "\u001b[0;31m---------------------------------------------------------------------------\u001b[0m",
      "\u001b[0;31mAttributeError\u001b[0m                            Traceback (most recent call last)",
      "\u001b[0;32m<ipython-input-4-8b874a9bde48>\u001b[0m in \u001b[0;36m<module>\u001b[0;34m()\u001b[0m\n\u001b[0;32m----> 1\u001b[0;31m \u001b[0mconverter\u001b[0m\u001b[0;34m(\u001b[0m\u001b[0;34m)\u001b[0m\u001b[0;34m.\u001b[0m\u001b[0mupdateSeason\u001b[0m\u001b[0;34m(\u001b[0m\u001b[0;34m)\u001b[0m\u001b[0;34m\u001b[0m\u001b[0m\n\u001b[0m",
      "\u001b[0;32m<ipython-input-3-86c7d414ae4d>\u001b[0m in \u001b[0;36mupdateSeason\u001b[0;34m(self)\u001b[0m\n\u001b[1;32m     46\u001b[0m     \u001b[0;32mdef\u001b[0m \u001b[0mupdateSeason\u001b[0m\u001b[0;34m(\u001b[0m\u001b[0mself\u001b[0m\u001b[0;34m)\u001b[0m\u001b[0;34m:\u001b[0m\u001b[0;34m\u001b[0m\u001b[0m\n\u001b[1;32m     47\u001b[0m         \u001b[0mdownloader\u001b[0m\u001b[0;34m(\u001b[0m\u001b[0;34m)\u001b[0m\u001b[0;34m.\u001b[0m\u001b[0mgetUpdate\u001b[0m\u001b[0;34m(\u001b[0m\u001b[0;34m)\u001b[0m\u001b[0;34m\u001b[0m\u001b[0m\n\u001b[0;32m---> 48\u001b[0;31m         \u001b[0mlastDown\u001b[0m \u001b[0;34m=\u001b[0m \u001b[0mdownloader\u001b[0m\u001b[0;34m(\u001b[0m\u001b[0;34m)\u001b[0m\u001b[0;34m.\u001b[0m\u001b[0mreadLastLoadMatchday\u001b[0m\u001b[0;34m(\u001b[0m\u001b[0;34m)\u001b[0m\u001b[0;34m\u001b[0m\u001b[0m\n\u001b[0m\u001b[1;32m     49\u001b[0m         \u001b[0;32mif\u001b[0m\u001b[0;34m(\u001b[0m\u001b[0mlastDown\u001b[0m \u001b[0;34m>\u001b[0m \u001b[0mself\u001b[0m\u001b[0;34m.\u001b[0m\u001b[0mlastConvMatchday\u001b[0m\u001b[0;34m)\u001b[0m\u001b[0;34m:\u001b[0m\u001b[0;34m\u001b[0m\u001b[0m\n\u001b[1;32m     50\u001b[0m             \u001b[0mdata\u001b[0m \u001b[0;34m=\u001b[0m \u001b[0mself\u001b[0m\u001b[0;34m.\u001b[0m\u001b[0mconvertMatchday\u001b[0m\u001b[0;34m(\u001b[0m\u001b[0mself\u001b[0m\u001b[0;34m.\u001b[0m\u001b[0mlastConvMatchday\u001b[0m\u001b[0;34m[\u001b[0m\u001b[0;36m0\u001b[0m\u001b[0;34m]\u001b[0m\u001b[0;34m,\u001b[0m \u001b[0mself\u001b[0m\u001b[0;34m.\u001b[0m\u001b[0mlastConvMatchday\u001b[0m\u001b[0;34m[\u001b[0m\u001b[0;36m1\u001b[0m\u001b[0;34m]\u001b[0m\u001b[0;34m)\u001b[0m\u001b[0;34m\u001b[0m\u001b[0m\n",
      "\u001b[0;31mAttributeError\u001b[0m: 'downloader' object has no attribute 'readLastLoadMatchday'"
     ]
    }
   ],
   "source": [
    "converter().updateSeason()"
   ]
  },
  {
   "cell_type": "code",
   "execution_count": null,
   "metadata": {
    "collapsed": false,
    "scrolled": true
   },
   "outputs": [],
   "source": []
  },
  {
   "cell_type": "code",
   "execution_count": null,
   "metadata": {
    "collapsed": true
   },
   "outputs": [],
   "source": []
  }
 ],
 "metadata": {
  "anaconda-cloud": {},
  "kernelspec": {
   "display_name": "Python [default]",
   "language": "python",
   "name": "python3"
  },
  "language_info": {
   "codemirror_mode": {
    "name": "ipython",
    "version": 3
   },
   "file_extension": ".py",
   "mimetype": "text/x-python",
   "name": "python",
   "nbconvert_exporter": "python",
   "pygments_lexer": "ipython3",
   "version": "3.5.2"
  }
 },
 "nbformat": 4,
 "nbformat_minor": 1
}
