{
 "cells": [
  {
   "cell_type": "code",
   "execution_count": 2,
   "metadata": {
    "collapsed": false,
    "scrolled": true
   },
   "outputs": [
    {
     "name": "stdout",
     "output_type": "stream",
     "text": [
      "dict_keys(['Group', 'LeagueId', 'MatchDateTime', 'MatchID', 'MatchIsFinished', 'NumberOfViewers', 'LastUpdateDateTime', 'TimeZoneID', 'Goals', 'Team2', 'Team1', 'MatchDateTimeUTC', 'MatchResults', 'Location'])\n",
      "{'ScoreTeam2': 1, 'GoalGetterID': 16162, 'MatchMinute': 35, 'IsOwnGoal': True, 'GoalID': 54775, 'IsPenalty': False, 'GoalGetterName': 'Lewis Holtby', 'IsOvertime': False, 'ScoreTeam1': 0, 'Comment': ''}\n"
     ]
    }
   ],
   "source": [
    "from urllib.request import urlopen\n",
    "import json\n",
    "u = urlopen('https://www.openligadb.de/api/getmatchdata/bl1/2016/8')\n",
    "resp = json.loads(u.read().decode('utf-8'))\n",
    "with open('test.json', 'w') as f:\n",
    "     json.dump(resp, f)\n",
    "# Reading data back\n",
    "with open('test.json', 'r') as f:\n",
    "     Data = json.load(f)\n",
    "print(Data[0].keys())\n",
    "print(Data[0]['Goals'][0])"
   ]
  },
  {
   "cell_type": "code",
   "execution_count": null,
   "metadata": {
    "collapsed": true
   },
   "outputs": [],
   "source": []
  }
 ],
 "metadata": {
  "anaconda-cloud": {},
  "kernelspec": {
   "display_name": "Python [default]",
   "language": "python",
   "name": "python3"
  },
  "language_info": {
   "codemirror_mode": {
    "name": "ipython",
    "version": 3
   },
   "file_extension": ".py",
   "mimetype": "text/x-python",
   "name": "python",
   "nbconvert_exporter": "python",
   "pygments_lexer": "ipython3",
   "version": "3.5.2"
  }
 },
 "nbformat": 4,
 "nbformat_minor": 1
}
