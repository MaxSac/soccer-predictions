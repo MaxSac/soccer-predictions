{
 "cells": [
  {
   "cell_type": "code",
   "execution_count": 1,
   "metadata": {
    "collapsed": false,
    "scrolled": true
   },
   "outputs": [
    {
     "name": "stdout",
     "output_type": "stream",
     "text": [
      "I am listening ...\n"
     ]
    },
    {
     "ename": "KeyboardInterrupt",
     "evalue": "",
     "output_type": "error",
     "traceback": [
      "\u001b[0;31m---------------------------------------------------------------------------\u001b[0m",
      "\u001b[0;31mKeyboardInterrupt\u001b[0m                         Traceback (most recent call last)",
      "\u001b[0;32m<ipython-input-1-7238e23ea692>\u001b[0m in \u001b[0;36m<module>\u001b[0;34m()\u001b[0m\n\u001b[1;32m     31\u001b[0m \u001b[0;34m\u001b[0m\u001b[0m\n\u001b[1;32m     32\u001b[0m \u001b[0;32mwhile\u001b[0m \u001b[0;36m1\u001b[0m\u001b[0;34m:\u001b[0m\u001b[0;34m\u001b[0m\u001b[0m\n\u001b[0;32m---> 33\u001b[0;31m     \u001b[0mtime\u001b[0m\u001b[0;34m.\u001b[0m\u001b[0msleep\u001b[0m\u001b[0;34m(\u001b[0m\u001b[0;36m10\u001b[0m\u001b[0;34m)\u001b[0m\u001b[0;34m\u001b[0m\u001b[0m\n\u001b[0m",
      "\u001b[0;31mKeyboardInterrupt\u001b[0m: "
     ]
    }
   ],
   "source": [
    "import time\n",
    "import datetime\n",
    "import telepot\n",
    "import numpy as np\n",
    "from telepot.loop import MessageLoop\n",
    "\n",
    "def handle(msg):\n",
    "    chat_id = msg['chat']['id']\n",
    "    command = msg['text']\n",
    "\n",
    "    print('Got command: %s' % command)\n",
    "\n",
    "    if command == '/time':\n",
    "        bot.sendMessage(chat_id, str(datetime.datetime.now()))\n",
    "    \n",
    "    elif command == '/teams':\n",
    "        bot.sendMessage(chat_id, str(np.array(['Bayern München', 'Werder Bremen', 'Borussia Dortmund',\n",
    "       '1. FSV Mainz 05', '1. FC Köln', 'SV Darmstadt 98', 'Hamburger SV',\n",
    "       'FC Ingolstadt 04', 'FC Augsburg', 'VfL Wolfsburg',\n",
    "       'Eintracht Frankfurt', 'FC Schalke 04', 'Borussia Mönchengladbach',\n",
    "       'Bayer 04 Leverkusen', 'Hertha BSC', 'SC Freiburg',\n",
    "       'TSG 1899 Hoffenheim', 'RB Leipzig'])))\n",
    "        \n",
    "    elif command == '/status':\n",
    "        bot.sendMessage(chat_id, str('Die Bundesligavorhersage ist aktiviert!'))\n",
    "\n",
    "bot = telepot.Bot('364468925:AAHsPxwh6MUpg1MwsrqaL5IVNn7UTpA--2M')\n",
    "\n",
    "MessageLoop(bot, handle).run_as_thread()\n",
    "print('I am listening ...')\n",
    "\n",
    "while 1:\n",
    "    time.sleep(10)"
   ]
  },
  {
   "cell_type": "code",
   "execution_count": null,
   "metadata": {
    "collapsed": true
   },
   "outputs": [],
   "source": []
  },
  {
   "cell_type": "code",
   "execution_count": null,
   "metadata": {
    "collapsed": true
   },
   "outputs": [],
   "source": []
  }
 ],
 "metadata": {
  "anaconda-cloud": {},
  "kernelspec": {
   "display_name": "Python [default]",
   "language": "python",
   "name": "python3"
  },
  "language_info": {
   "codemirror_mode": {
    "name": "ipython",
    "version": 3
   },
   "file_extension": ".py",
   "mimetype": "text/x-python",
   "name": "python",
   "nbconvert_exporter": "python",
   "pygments_lexer": "ipython3",
   "version": "3.5.2"
  }
 },
 "nbformat": 4,
 "nbformat_minor": 2
}
